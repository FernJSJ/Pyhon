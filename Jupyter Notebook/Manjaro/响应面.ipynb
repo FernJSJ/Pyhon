{
 "cells": [
  {
   "cell_type": "code",
   "execution_count": 1,
   "metadata": {
    "scrolled": true
   },
   "outputs": [
    {
     "name": "stdout",
     "output_type": "stream",
     "text": [
      "-76796.25⋅a + 1955.3125⋅b + 1911.9375⋅c + 16573.8125\n"
     ]
    }
   ],
   "source": [
    "from sympy import *\n",
    "import numpy as np\n",
    "a, b, c = symbols(\"a b c\")\n",
    "y = 18611.4375 - 3839.8125 * ((a-0.15)/0.05) + 1955.3125 * (b-4) + 1911.9375 * (c-3)\n",
    "result = simplify(y)\n",
    "pprint(result, use_unicode=True)"
   ]
  },
  {
   "cell_type": "code",
   "execution_count": 2,
   "metadata": {},
   "outputs": [
    {
     "name": "stdout",
     "output_type": "stream",
     "text": [
      "31216.25⋅a⋅b - 5916.25⋅a⋅c - 183912.5⋅a - 1601.1875⋅b⋅c + 2076.4375⋅b + 9204.1\n",
      "25⋅c + 13427.0\n"
     ]
    }
   ],
   "source": [
    "from sympy import *\n",
    "import numpy as np\n",
    "a, b, c = symbols(\"a b c\")\n",
    "y = 18611.4375 - 3839.8125 * ((a-0.15)/0.05) + 1955.3125 * (b-4) + 1911.9375 * (c-3) + ((a-0.15)/0.05)*((b-4)*1560.8125) + ((a-0.15)/0.05)*((c-3)*(-295.8125)) + (b-4)*((c-3)*(-1601.1875))\n",
    "result = simplify(y)\n",
    "pprint(result, use_unicode=True)"
   ]
  },
  {
   "cell_type": "code",
   "execution_count": 12,
   "metadata": {},
   "outputs": [
    {
     "name": "stdout",
     "output_type": "stream",
     "text": [
      "0.0255\n",
      "0.0249\n"
     ]
    }
   ],
   "source": [
    "x1 = 1955/76796\n",
    "x2 = 1912/76796\n",
    "print('%.4f' % x1)\n",
    "print('%.4f' % x2)"
   ]
  },
  {
   "cell_type": "code",
   "execution_count": null,
   "metadata": {},
   "outputs": [],
   "source": []
  }
 ],
 "metadata": {
  "kernelspec": {
   "display_name": "Python 3",
   "language": "python",
   "name": "python3"
  },
  "language_info": {
   "codemirror_mode": {
    "name": "ipython",
    "version": 3
   },
   "file_extension": ".py",
   "mimetype": "text/x-python",
   "name": "python",
   "nbconvert_exporter": "python",
   "pygments_lexer": "ipython3",
   "version": "3.8.3"
  }
 },
 "nbformat": 4,
 "nbformat_minor": 4
}
