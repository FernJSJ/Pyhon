{
 "cells": [
  {
   "cell_type": "code",
   "execution_count": 1,
   "metadata": {},
   "outputs": [],
   "source": [
    "import d2lzh_pytorch as d2l"
   ]
  },
  {
   "cell_type": "code",
   "execution_count": 2,
   "metadata": {},
   "outputs": [],
   "source": [
    "import torch\n",
    "import torchvision"
   ]
  },
  {
   "cell_type": "code",
   "execution_count": 3,
   "metadata": {},
   "outputs": [],
   "source": [
    "import matplotlib"
   ]
  },
  {
   "cell_type": "code",
   "execution_count": 4,
   "metadata": {},
   "outputs": [],
   "source": [
    "import cvxopt"
   ]
  },
  {
   "cell_type": "code",
   "execution_count": 5,
   "metadata": {},
   "outputs": [],
   "source": [
    "import cvxpy"
   ]
  },
  {
   "cell_type": "code",
   "execution_count": 6,
   "metadata": {},
   "outputs": [],
   "source": [
    "import sko\n",
    "import geatpy\n",
    "import statsmodels\n",
    "import pyecharts\n",
    "import sklearn"
   ]
  },
  {
   "cell_type": "code",
   "execution_count": 7,
   "metadata": {},
   "outputs": [
    {
     "name": "stdout",
     "output_type": "stream",
     "text": [
      "Minimum cost: 150\n",
      "\n",
      "  Arc    Flow / Capacity  Cost\n",
      "0 -> 1    12  /  15        48\n",
      "0 -> 2     8  /   8        32\n",
      "1 -> 2     8  /  20        16\n",
      "1 -> 3     4  /   4         8\n",
      "1 -> 4     0  /  10         0\n",
      "2 -> 3    12  /  15        12\n",
      "2 -> 4     4  /   4        12\n",
      "3 -> 4    11  /  20        22\n",
      "4 -> 2     0  /   5         0\n"
     ]
    }
   ],
   "source": [
    "from ortools.graph import pywrapgraph\n",
    "#between each pair. For instance, the arc from node 0 to node 1 has acapacity of 15 and a unit cost of 4.\n",
    "start_nodes = [ 0, 0,  1, 1,  1,  2, 2,  3, 4]\n",
    "end_nodes   = [ 1, 2,  2, 3,  4,  3, 4,  4, 2]\n",
    "capacities  = [15, 8, 20, 4, 10, 15, 4, 20, 5]\n",
    "unit_costs  = [ 4, 4,  2, 2,  6,  1, 3,  2, 3]\n",
    "# Define an array of supplies at each node.\n",
    "supplies = [20, 0, 0, -5, -15]\n",
    "# Instantiate a SimpleMinCostFlow solver.\n",
    "min_cost_flow = pywrapgraph.SimpleMinCostFlow()\n",
    "# Add each arc.\n",
    "for i in range(0, len(start_nodes)):\n",
    "    min_cost_flow.AddArcWithCapacityAndUnitCost(start_nodes[i], end_nodes[i],\n",
    "                                                capacities[i], unit_costs[i])\n",
    "# Add node supplies.\n",
    "for i in range(0, len(supplies)):\n",
    "    min_cost_flow.SetNodeSupply(i, supplies[i])\n",
    " # Find the minimum cost flow between node 0 and node 4.\n",
    "if min_cost_flow.Solve() == min_cost_flow.OPTIMAL:\n",
    "    print('Minimum cost:', min_cost_flow.OptimalCost())\n",
    "    print('')\n",
    "    print('  Arc    Flow / Capacity  Cost')\n",
    "    for i in range(min_cost_flow.NumArcs()):\n",
    "      cost = min_cost_flow.Flow(i) * min_cost_flow.UnitCost(i)\n",
    "      print('%1s -> %1s   %3s  / %3s       %3s' % (\n",
    "          min_cost_flow.Tail(i),\n",
    "          min_cost_flow.Head(i),\n",
    "          min_cost_flow.Flow(i),\n",
    "          min_cost_flow.Capacity(i),\n",
    "          cost))\n",
    "else:\n",
    "    print('There was an issue with the min cost flow input.')"
   ]
  },
  {
   "cell_type": "code",
   "execution_count": 1,
   "metadata": {
    "scrolled": true
   },
   "outputs": [
    {
     "name": "stdout",
     "output_type": "stream",
     "text": [
      "Using license file /home/fern/gurobi.lic\n",
      "Academic license - for non-commercial use only - expires 2021-01-31\n",
      "Gurobi Optimizer version 9.1.0 build v9.1.0rc0 (linux64)\n",
      "Thread count: 3 physical cores, 3 logical processors, using up to 3 threads\n",
      "Optimize a model with 64 rows, 448 columns and 896 nonzeros\n",
      "Model fingerprint: 0x4eb39152\n",
      "Variable types: 0 continuous, 448 integer (448 binary)\n",
      "Coefficient statistics:\n",
      "  Matrix range     [1e+00, 1e+00]\n",
      "  Objective range  [2e+03, 1e+04]\n",
      "  Bounds range     [1e+00, 1e+00]\n",
      "  RHS range        [1e+00, 1e+00]\n",
      "Found heuristic solution: objective 325324.25000\n",
      "Presolve time: 0.01s\n",
      "Presolved: 64 rows, 448 columns, 896 nonzeros\n",
      "Variable types: 0 continuous, 448 integer (448 binary)\n",
      "\n",
      "Root relaxation: objective 3.865421e+05, 65 iterations, 0.00 seconds\n",
      "\n",
      "    Nodes    |    Current Node    |     Objective Bounds      |     Work\n",
      " Expl Unexpl |  Obj  Depth IntInf | Incumbent    BestBd   Gap | It/Node Time\n",
      "\n",
      "*    0     0               0    386542.15000 386542.150  0.00%     -    0s\n",
      "\n",
      "Explored 0 nodes (65 simplex iterations) in 0.06 seconds\n",
      "Thread count was 3 (of 3 available processors)\n",
      "\n",
      "Solution count 2: 386542 325324 \n",
      "\n",
      "Optimal solution found (tolerance 1.00e-04)\n",
      "Best objective 3.865421500000e+05, best bound 3.865421500000e+05, gap 0.0000%\n",
      "最大收益为: 386542.14999999997\n",
      "最佳排片方法:\n",
      "[6, 7, 5, 5, 5, 5, 5]\n",
      "[1, 7, 7, 7, 7, 7, 4]\n",
      "[6, 3, 5, 5, 5, 5, 5]\n",
      "[6, 3, 5, 5, 5, 5, 5]\n",
      "[6, 3, 6, 8, 6, 5, 5]\n",
      "[6, 3, 4, 3, 6, 4, 4]\n",
      "[3, 3, 4, 3, 2, 4, 4]\n",
      "[3, 3, 4, 3, 2, 4, 4]\n"
     ]
    }
   ],
   "source": [
    "from gurobipy import *\n",
    "# 8部电影\n",
    "# 7个影厅\n",
    "# 8个时段\n",
    "lt_seat = [118, 86, 116, 85, 156, 142, 156]\n",
    "# 一行为一个影厅,一列为一部电影\n",
    "lt_price = [[60, 60, 65, 60, 65, 90, 60, 65],\n",
    "            [65, 65, 85, 75, 60, 75, 85, 80],\n",
    "            [60, 70, 75, 80, 75, 80, 80, 75],\n",
    "            [65, 65, 80, 75, 80, 75, 75, 80],\n",
    "            [60, 65, 65, 60, 75, 80, 80, 75],\n",
    "            [60, 65, 65, 80, 75, 75, 80, 75],\n",
    "            [60, 60, 75, 80, 75, 70, 60, 75]]\n",
    "# 一行为一个时段,一列为一部电影\n",
    "lt_rate = [[0.50, 0.55, 0.45, 0.50, 0.60, 0.46, 0.55, 0.45],\n",
    "           [0.42, 0.43, 0.41, 0.43, 0.45, 0.30, 0.53, 0.36],\n",
    "           [0.58, 0.63, 0.67, 0.64, 0.70, 0.64, 0.54, 0.57],\n",
    "           [0.62, 0.67, 0.70, 0.65, 0.75, 0.64, 0.53, 0.66],\n",
    "           [0.65, 0.65, 0.73, 0.68, 0.75, 0.74, 0.67, 0.72],\n",
    "           [0.66, 0.69, 0.78, 0.78, 0.78, 0.75, 0.74, 0.70],\n",
    "           [0.67, 0.92, 0.87, 0.87, 0.75, 0.59, 0.68, 0.68],\n",
    "           [0.67, 0.92, 0.87, 0.87, 0.75, 0.59, 0.68, 0.68]]\n",
    "# 计算满座的票房二维列表,lt_all\n",
    "lt_all = [[0 for col in range(8)] for row in range(7)]\n",
    "for i in range(7):\n",
    "    for j in range(8):\n",
    "        lt_all[i][j] = lt_price[i][j] * lt_seat[i]\n",
    "# 创建模型\n",
    "m = Model(\"arr_mov\")\n",
    "# 创建变量.第i个时段在第j个影厅放映第k部电影\n",
    "x = m.addVars(8, 7, 8, vtype=GRB.BINARY)\n",
    "# 更新变量环境\n",
    "m.update()\n",
    "# 创建目标函数\n",
    "m.setObjective(sum(x[i, j, k] * lt_rate[i][k] * lt_all[j][k]\n",
    "                   for i in range(8) for j in range(7) for k in range(8)),\n",
    "                   GRB.MAXIMIZE)\n",
    "# 创建约束条件约束条件\n",
    "m.addConstrs(sum(x[i,j,k] for i in range(8) for j in range(7)) >= 1 for k in range(8))\n",
    "m.addConstrs(sum(x.select(i, j, '*')) == 1 for i in range(8) for j in range(7))\n",
    "# 执行现行规划模型\n",
    "m.optimize()\n",
    "\n",
    "# 输出结果\n",
    "result = [[0 for col in range(7)] for row in range(8)]\n",
    "solution = m.getAttr('x',x)\n",
    "# 得到排片矩阵\n",
    "for k,v in solution.items():\n",
    "    if v == 1:\n",
    "        result[k[0]][k[1]] = k[2] + 1\n",
    "# 得到最大收益值\n",
    "max_get = sum(solution[i, j, k] * lt_rate[i][k] * lt_all[j][k] for i in range(8) for j in range(7) for k in range(8))\n",
    "# 打印最大收益值,和排片矩阵\n",
    "print('最大收益为:',max_get)\n",
    "print('最佳排片方法:')\n",
    "for l in result:\n",
    "    print(l)"
   ]
  },
  {
   "cell_type": "code",
   "execution_count": 8,
   "metadata": {},
   "outputs": [
    {
     "name": "stdout",
     "output_type": "stream",
     "text": [
      "WARNING:tensorflow:From /home/fern/miniconda3/lib/python3.8/site-packages/tensorflow/python/compat/v2_compat.py:96: disable_resource_variables (from tensorflow.python.ops.variable_scope) is deprecated and will be removed in a future version.\n",
      "Instructions for updating:\n",
      "non-resource variables are not supported in the long term\n",
      "3\n"
     ]
    }
   ],
   "source": [
    "import tensorflow.compat.v1 as tf\n",
    "tf.disable_v2_behavior()\n",
    "sess = tf.Session() \n",
    "a = tf.constant(1) \n",
    "b = tf.constant(2) \n",
    "print(sess.run(a+b))"
   ]
  },
  {
   "cell_type": "code",
   "execution_count": 9,
   "metadata": {},
   "outputs": [
    {
     "name": "stdout",
     "output_type": "stream",
     "text": [
      "2.3.0\n"
     ]
    }
   ],
   "source": [
    "import tensorflow as tf\n",
    "print(tf.__version__)\n",
    "import keras"
   ]
  },
  {
   "cell_type": "code",
   "execution_count": 10,
   "metadata": {},
   "outputs": [],
   "source": [
    "import cv2"
   ]
  },
  {
   "cell_type": "code",
   "execution_count": 11,
   "metadata": {},
   "outputs": [
    {
     "data": {
      "image/png": "[encoded data removed]",
      "text/plain": [
       "<Figure size 432x288 with 1 Axes>"
      ]
     },
     "metadata": {},
     "output_type": "display_data"
    }
   ],
   "source": [
    "import matplotlib.pyplot as plt\n",
    " \n",
    "from pylab import *\n",
    "mpl.rcParams['font.sans-serif'] = ['SimHei']\n",
    " \n",
    "# 定义文本框和箭头格式\n",
    "decisionNode = dict(boxstyle = \"sawtooth\", fc = \"0.8\")\n",
    "leafNode = dict(boxstyle = \"round4\", fc = \"0.8\")\n",
    "arrow_args = dict(arrowstyle = \"<-\")\n",
    " \n",
    "# 绘制带箭头的注解\n",
    "def plotNode(nodeTxt, centerPt, parentPt, nodeType) :\n",
    "\tcreatePlot.ax1.annotate(nodeTxt, xy = parentPt, xycoords = 'axes fraction', xytext = centerPt, textcoords = 'axes fraction', va = 'center', ha = 'center', bbox = nodeType, arrowprops = arrow_args)\n",
    " \n",
    "def createPlot() :\n",
    "\tfig = plt.figure(1, facecolor='white')\n",
    "\tfig.clf()\n",
    "\tcreatePlot.ax1 = plt.subplot(111, frameon = False)\n",
    "\tplotNode(U'决策节点', (0.5, 0.1), (0.1, 0.5), decisionNode)\n",
    "\tplotNode(U'叶节点', (0.8, 0.1), (0.3, 0.8), leafNode)\n",
    "\tplt.show()\n",
    "createPlot()"
   ]
  },
  {
   "cell_type": "code",
   "execution_count": 2,
   "metadata": {},
   "outputs": [
    {
     "name": "stderr",
     "output_type": "stream",
     "text": [
      "Matplotlib is building the font cache; this may take a moment.\n"
     ]
    },
    {
     "name": "stdout",
     "output_type": "stream",
     "text": [
      "最大流的流量为： 5\n",
      "最大流为： {0: {1: 2, 2: 3}, 1: {3: 2}, 2: {1: 0, 4: 3}, 3: {2: 0, 4: 0, 5: 2}, 4: {5: 3}, 5: {}}\n",
      "最大流的邻接矩阵为：\n",
      " [[0 2 3 0 0 0]\n",
      " [0 0 0 2 0 0]\n",
      " [0 0 0 0 3 0]\n",
      " [0 0 0 0 0 2]\n",
      " [0 0 0 0 0 3]\n",
      " [0 0 0 0 0 0]]\n"
     ]
    },
    {
     "data": {
      "image/png": "[encoded data removed]",
      "text/plain": [
       "<Figure size 432x288 with 1 Axes>"
      ]
     },
     "metadata": {},
     "output_type": "display_data"
    }
   ],
   "source": [
    "#程序文件Pex10_16.py\n",
    "import numpy as np\n",
    "import networkx as nx\n",
    "import pylab as plt\n",
    "L=[(1,2,5),(1,3,3),(2,4,2),(3,2,1),(3,5,4),\n",
    "   (4,3,1),(4,5,3),(4,6,2),(5,6,5)]\n",
    "G=nx.DiGraph()\n",
    "for k in range(len(L)):\n",
    "    G.add_edge(L[k][0]-1,L[k][1]-1, capacity=L[k][2])\n",
    "value, flow_dict= nx.maximum_flow(G, 0, 5)\n",
    "print(\"最大流的流量为：\",value)\n",
    "print(\"最大流为：\", flow_dict)\n",
    "n = len(flow_dict)\n",
    "adj_mat = np.zeros((n, n), dtype=int)\n",
    "for i, adj in flow_dict.items():\n",
    "    for j, weight in adj.items():\n",
    "        adj_mat[i,j] = weight\n",
    "print(\"最大流的邻接矩阵为：\\n\",adj_mat)\n",
    "ni,nj=np.nonzero(adj_mat)  #非零弧的两端点编号\n",
    "key=range(n)\n",
    "s=['v'+str(i+1) for i in range(n)]\n",
    "s=dict(zip(key,s)) #构造用于顶点标注的字符字典\n",
    "plt.rc('font',size=16)\n",
    "pos=nx.shell_layout(G)  #设置布局\n",
    "w=nx.get_edge_attributes(G,'capacity')\n",
    "nx.draw(G,pos,font_weight='bold',labels=s,node_color='r')\n",
    "nx.draw_networkx_edge_labels(G,pos,edge_labels=w)\n",
    "path_edges=list(zip(ni,nj))\n",
    "nx.draw_networkx_edges(G,pos,edgelist=path_edges,\n",
    "            edge_color='r',width=3)\n",
    "plt.show()"
   ]
  },
  {
   "cell_type": "code",
   "execution_count": 4,
   "metadata": {},
   "outputs": [
    {
     "data": {
      "image/png": "[encoded data removed]",
      "text/plain": [
       "<Figure size 432x288 with 3 Axes>"
      ]
     },
     "metadata": {
      "needs_background": "light"
     },
     "output_type": "display_data"
    }
   ],
   "source": [
    "# 例2.39 把屏幕开成3个子窗口，上面两个子窗口，下面一个大的子窗口，3个窗口分别画曲线y=sin(x), y=cos(x), y=sin(x^2), x在[0, 2pi]\n",
    "import numpy as np\n",
    "import os\n",
    "from matplotlib.pyplot import *\n",
    "x = np.linspace(0, 2 * np.pi, 200)\n",
    "y1 = np.sin(x)\n",
    "y2 = np.cos(x)\n",
    "y3 = np.sin(x*x)\n",
    "rc('font', size=16)\n",
    "rc('text', usetex=True) # 调用tex字库\n",
    "ax1 = subplot(2, 2, 1) # 新建左上1号子窗口\n",
    "ax1.plot(x, y1, 'r', label='$sin(x)$') # 画图\n",
    "legend() # 添加图例\n",
    "ax2 = subplot(2, 2, 2) # 新建右上2号窗口\n",
    "ax2.plot(x, y2, 'b--', label='$cos(x)$')\n",
    "legend()\n",
    "ax3 = subplot(2, 1, 2) # 新建2行、1列的下面子窗口\n",
    "ax3.plot(x, y3, 'k--', label='$sin(x^2)$')\n",
    "legend()\n",
    "savefig('/home/fern/Downloads/figure2_39.png', dpi=500)\n",
    "show()"
   ]
  },
  {
   "cell_type": "code",
   "execution_count": null,
   "metadata": {},
   "outputs": [],
   "source": []
  }
 ],
 "metadata": {
  "kernelspec": {
   "display_name": "Python 3",
   "language": "python",
   "name": "python3"
  },
  "language_info": {
   "codemirror_mode": {
    "name": "ipython",
    "version": 3
   },
   "file_extension": ".py",
   "mimetype": "text/x-python",
   "name": "python",
   "nbconvert_exporter": "python",
   "pygments_lexer": "ipython3",
   "version": "3.8.3"
  }
 },
 "nbformat": 4,
 "nbformat_minor": 4
}
