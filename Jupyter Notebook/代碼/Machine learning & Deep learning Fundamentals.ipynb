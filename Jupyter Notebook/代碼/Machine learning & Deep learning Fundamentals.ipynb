{
 "cells": [
  {
   "cell_type": "markdown",
   "metadata": {},
   "source": [
    "## Machine learning & Deep learning Fundamentals\n",
    "## 视频\n",
    "* https://www.bilibili.com/video/BV1Ck4y197hT?from=search&seid=13589607221689952003\n",
    "\n",
    "## Terms and topics\n",
    "* Understand what they mean\n",
    "* How they fit in the overall deep learning framework\n",
    "* How certain topics are implemented in code\n",
    "    * Using Keras"
   ]
  },
  {
   "cell_type": "markdown",
   "metadata": {},
   "source": [
    "### Machine learning\n",
    "* Machine learning is the practice of using algorithms to analyze data, learn from that data, and then make a determination or prediction about new data. "
   ]
  },
  {
   "cell_type": "markdown",
   "metadata": {},
   "source": [
    "# 《高效入门pytorch视频教程》\n",
    "## 视频\n",
    "* https://www.bilibili.com/video/BV1UE411N7pD\n",
    "\n",
    "## 资源\n",
    "* https://deeplizard.com/\n",
    "\n",
    "## 知乎笔记\n",
    "https://zhuanlan.zhihu.com/c_1213762851279802368"
   ]
  },
  {
   "cell_type": "markdown",
   "metadata": {},
   "source": [
    "* 先决条件： 编程经验和神经网络基础\n",
    "    * 用python编程\n",
    "    * 熟悉变量、对象、循环等概念\n",
    "    * 神经网络使用Pytorch\n",
    "    * 了解神经网络和深度学习概念"
   ]
  }
 ],
 "metadata": {
  "kernelspec": {
   "display_name": "Python 3",
   "language": "python",
   "name": "python3"
  },
  "language_info": {
   "codemirror_mode": {
    "name": "ipython",
    "version": 3
   },
   "file_extension": ".py",
   "mimetype": "text/x-python",
   "name": "python",
   "nbconvert_exporter": "python",
   "pygments_lexer": "ipython3",
   "version": "3.7.6"
  }
 },
 "nbformat": 4,
 "nbformat_minor": 4
}
