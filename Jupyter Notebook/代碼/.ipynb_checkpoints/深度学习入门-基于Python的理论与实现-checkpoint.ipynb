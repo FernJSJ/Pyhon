{
 "cells": [
  {
   "cell_type": "markdown",
   "metadata": {},
   "source": [
    "# 第一章 Python入门\n",
    "* ** 表示乘方\n",
    "* type()查看数据类型\n",
    "    * int(整型) float(浮点) str(字符串)\n",
    "* len()查看长度\n",
    "* 索引从0开始,索引包含左边,不包含右边\n",
    "* 字符串拼接使用 +"
   ]
  },
  {
   "cell_type": "code",
   "execution_count": 2,
   "metadata": {},
   "outputs": [
    {
     "name": "stdout",
     "output_type": "stream",
     "text": [
      "[1, 2, 3, 4, 5]\n",
      "[1, 2, 3, 4, 99]\n"
     ]
    }
   ],
   "source": [
    "# 列表\n",
    "a = [1,2,3,4,5] # 生成列表\n",
    "print(a) # 输出列表内容\n",
    "len(a) # 获取列表长度\n",
    "a[0] # 访问第一个元素\n",
    "a[4] = 99 # 赋值\n",
    "print(a)"
   ]
  },
  {
   "cell_type": "code",
   "execution_count": 3,
   "metadata": {},
   "outputs": [
    {
     "name": "stdout",
     "output_type": "stream",
     "text": [
      "{'height': 180, 'weight': 70}\n"
     ]
    }
   ],
   "source": [
    "# 字典\n",
    "me = {'height':180} # 生成字典\n",
    "me['height'] # 访问元素 # 180\n",
    "me['weight'] = 70 # 添加新元素\n",
    "print(me)"
   ]
  },
  {
   "cell_type": "code",
   "execution_count": 5,
   "metadata": {},
   "outputs": [
    {
     "data": {
      "text/plain": [
       "True"
      ]
     },
     "execution_count": 5,
     "metadata": {},
     "output_type": "execute_result"
    }
   ],
   "source": [
    "# 布尔\n",
    "hungry = True # 饿了?\n",
    "sleepy = False # 困了?\n",
    "type(hungry) # bool\n",
    "\n",
    "not hungry # False\n",
    "hungry and sleepy # 饿并且困 # False\n",
    "hungry or sleepy # 饿或者困 # True"
   ]
  },
  {
   "cell_type": "code",
   "execution_count": 6,
   "metadata": {},
   "outputs": [
    {
     "name": "stdout",
     "output_type": "stream",
     "text": [
      "I'm hungry\n",
      "I'm not hungry\n",
      "I'm sleepy\n"
     ]
    }
   ],
   "source": [
    "# if\n",
    "hungry = True\n",
    "if hungry :\n",
    "    print(\"I'm hungry\")\n",
    "    \n",
    "hungry = False\n",
    "if hungry:\n",
    "    print(\"I'm hungry\")\n",
    "else:\n",
    "    print(\"I'm not hungry\")\n",
    "    print(\"I'm sleepy\")"
   ]
  },
  {
   "cell_type": "code",
   "execution_count": 7,
   "metadata": {},
   "outputs": [
    {
     "name": "stdout",
     "output_type": "stream",
     "text": [
      "1\n",
      "2\n",
      "3\n"
     ]
    }
   ],
   "source": [
    "# for\n",
    "for i in [1,2,3]:\n",
    "    print(i)\n",
    "# 输出列表元素"
   ]
  },
  {
   "cell_type": "code",
   "execution_count": 10,
   "metadata": {},
   "outputs": [
    {
     "name": "stdout",
     "output_type": "stream",
     "text": [
      "Hello World!\n",
      "Hello cat!\n"
     ]
    }
   ],
   "source": [
    "# 函数\n",
    "def hello():\n",
    "    print(\"Hello World!\")\n",
    "hello()\n",
    "\n",
    "def hello(object):\n",
    "    print(\"Hello \" + object + \"!\")\n",
    "hello(\"cat\")\n",
    "# 字符串拼接使用 +"
   ]
  },
  {
   "cell_type": "code",
   "execution_count": 16,
   "metadata": {},
   "outputs": [
    {
     "name": "stdout",
     "output_type": "stream",
     "text": [
      "Initialized!\n",
      "Hello David!\n",
      "Good-bye David!\n"
     ]
    }
   ],
   "source": [
    "# 类\n",
    "# 使用时,需跳出函数\n",
    "class Man:\n",
    "    def __init__(self,name):\n",
    "        self.name = name\n",
    "        print(\"Initialized!\")\n",
    "        \n",
    "    def hello(self):\n",
    "        print(\"Hello \" + self.name + \"!\")\n",
    "        \n",
    "    def goodbye(self):\n",
    "        print(\"Good-bye \" + self.name + \"!\")\n",
    "        \n",
    "m = Man(\"David\")\n",
    "m.hello()\n",
    "m.goodbye()"
   ]
  },
  {
   "cell_type": "code",
   "execution_count": 23,
   "metadata": {},
   "outputs": [
    {
     "name": "stdout",
     "output_type": "stream",
     "text": [
      "[1. 2. 3.]\n",
      "[3. 6. 9.]\n",
      "[-1. -2. -3.]\n",
      "[ 2.  8. 18.]\n",
      "[0.5 0.5 0.5]\n",
      "[0.5 1.  1.5]\n",
      "[[1 2]\n",
      " [3 4]]\n",
      "[[ 4  2]\n",
      " [ 3 10]]\n",
      "[[ 3  0]\n",
      " [ 0 24]]\n",
      "[[10 20]\n",
      " [30 40]]\n"
     ]
    }
   ],
   "source": [
    "# Numpy\n",
    "# 生成数组\n",
    "import numpy as np\n",
    "x = np.array([1.0, 2.0, 3.0])\n",
    "print(x)\n",
    "type(x)\n",
    "\n",
    "# 算数运算 元素个数相同\n",
    "x = np.array([1.0, 2.0, 3.0]) \n",
    "y = np.array([2.0, 4.0, 6.0])\n",
    "print(x + y)\n",
    "print(x - y)\n",
    "print(x * y) # element-wise product(对应元素相乘)\n",
    "print(x / y)\n",
    "\n",
    "# 单一数值(标量)组合运算 广播\n",
    "x = np.array([1.0, 2.0, 3.0])\n",
    "print(x / 2.0)\n",
    "\n",
    "# N维数组\n",
    "A = np.array([[1,2],[3,4]])\n",
    "print(A)\n",
    "A.shape # 查看矩阵A的形状\n",
    "A.dtype # 查看元素的数据类型\n",
    "\n",
    "B = np.array([[3,0],[0,6]]) # 算数运算\n",
    "print(A + B)\n",
    "print(A * B)\n",
    "print(A * 10)"
   ]
  },
  {
   "cell_type": "code",
   "execution_count": 24,
   "metadata": {},
   "outputs": [
    {
     "name": "stdout",
     "output_type": "stream",
     "text": [
      "[[10 40]\n",
      " [30 80]]\n"
     ]
    }
   ],
   "source": [
    "# 广播(broadcast)\n",
    "A = np.array([[1,2],[3,4]])\n",
    "B = np.array([10,20])\n",
    "print(A * B)"
   ]
  },
  {
   "cell_type": "code",
   "execution_count": 27,
   "metadata": {},
   "outputs": [
    {
     "name": "stdout",
     "output_type": "stream",
     "text": [
      "[[51 55]\n",
      " [14 19]\n",
      " [ 0  4]]\n",
      "[51 55]\n",
      "[14 19]\n",
      "[0 4]\n",
      "[51 55 14 19  0  4]\n"
     ]
    },
    {
     "data": {
      "text/plain": [
       "array([51, 55, 19])"
      ]
     },
     "execution_count": 27,
     "metadata": {},
     "output_type": "execute_result"
    }
   ],
   "source": [
    "# 访问元素\n",
    "X = np.array([[51,55],[14,19],[0,4]])\n",
    "print(X)\n",
    "\n",
    "X[0] # 第零行\n",
    "X[0][1] # (0,1)元素\n",
    "\n",
    "# for访问各个元素\n",
    "for row in X:\n",
    "    print(row)\n",
    "    \n",
    "# 数组访问各个元素\n",
    "X = X.flatten() # 将x转换为一维数组\n",
    "print(X)\n",
    "X[np.array([0,2,4])] # 获取索引为0 2 4 的元素\n",
    "\n",
    "# 从X中抽出大于15的元素\n",
    "X > 15 # array([ True,  True, False,  True, False, False])\n",
    "X[X>15]"
   ]
  },
  {
   "cell_type": "code",
   "execution_count": 30,
   "metadata": {},
   "outputs": [
    {
     "data": {
      "image/png": "[encoded data removed]",
      "text/plain": [
       "<Figure size 432x288 with 1 Axes>"
      ]
     },
     "metadata": {
      "needs_background": "light"
     },
     "output_type": "display_data"
    }
   ],
   "source": [
    "# Matplotlib\n",
    "# pyplot模块绘制图像\n",
    "import numpy as np\n",
    "import matplotlib.pyplot as plt\n",
    "\n",
    "x = np.arange(0,6,0.1) # 以0.1为步长,生成0到6的数据\n",
    "y = np.sin(x)\n",
    "\n",
    "plt.plot(x, y) # 绘制图形\n",
    "plt.show() # 显示图形"
   ]
  },
  {
   "cell_type": "code",
   "execution_count": 32,
   "metadata": {},
   "outputs": [
    {
     "data": {
      "image/png": "[encoded data removed]",
      "text/plain": [
       "<Figure size 432x288 with 1 Axes>"
      ]
     },
     "metadata": {
      "needs_background": "light"
     },
     "output_type": "display_data"
    }
   ],
   "source": [
    "# cos函数,pyplot添加标题和x轴标签\n",
    "import numpy as np\n",
    "import matplotlib.pyplot as plt\n",
    "\n",
    "x = np.arange(0,6,0.1) # 以0.1为步长,生成0到6的数据\n",
    "y1 = np.sin(x)\n",
    "y2 = np.cos(x)\n",
    "\n",
    "plt.plot(x, y1, label=\"sin\")\n",
    "plt.plot(x, y2, linestyle = \"--\", label=\"cos\") # 虚线绘制\n",
    "plt.xlabel(\"x\") # x轴标签\n",
    "plt.ylabel(\"y\") # y轴标签\n",
    "plt.title('sin & cos') # 标题\n",
    "plt.legend()\n",
    "plt.show()"
   ]
  },
  {
   "cell_type": "code",
   "execution_count": 98,
   "metadata": {},
   "outputs": [
    {
     "data": {
      "image/png": "[encoded data removed]",
      "text/plain": [
       "<Figure size 432x288 with 1 Axes>"
      ]
     },
     "metadata": {
      "needs_background": "light"
     },
     "output_type": "display_data"
    }
   ],
   "source": [
    "# imshow显示图像 matplotlib.image模块imread()读入图像\n",
    "import matplotlib.pyplot as plt\n",
    "from matplotlib.image import imread\n",
    "img = imread(\"/home/fern/Downloads/深度学习入门文件/20201129.jpg\") # 读入图像\n",
    "plt.imshow(img)\n",
    "\n",
    "plt.show()"
   ]
  },
  {
   "cell_type": "markdown",
   "metadata": {},
   "source": [
    "## 第二章 感知机\n",
    "* 感知机(perceptron)\n",
    "* 感知机接受多个输入信号,输出一个信号(0不传递信号,1传递信号)\n",
    "* x1 x2输入信号,y输出信号,w1 w2权重,输入信号送至神经元分别乘上权重,神经元计算传送信号的总和,当超过阈值,输出1\n",
    "![image.png](https://upload-images.jianshu.io/upload_images/22096293-3acbc946f698dc1a.png?imageMogr2/auto-orient/strip%7CimageView2/2/w/1240)\n",
    "    * 权重类似电阻,控制信号流动\n",
    "* 单层感知机实现与门 或门 \n",
    "* 二层感知机实习异或门\n",
    "* 单层感知机仅表示线性空间,多层感知机可表示非线性空间\n",
    "* 多层感知机(理论上)可表示计算机"
   ]
  },
  {
   "cell_type": "code",
   "execution_count": 35,
   "metadata": {},
   "outputs": [
    {
     "data": {
      "text/plain": [
       "1"
      ]
     },
     "execution_count": 35,
     "metadata": {},
     "output_type": "execute_result"
    }
   ],
   "source": [
    "# 简单实现逻辑电路\n",
    "# 定义接受x1 x2的AND函数\n",
    "def AND(x1, x2):\n",
    "    w1, w2, theta = 0.5, 0.5, 0.7\n",
    "    tmp = x1*w1 + x2*w2\n",
    "    if tmp <= theta:\n",
    "        return 0\n",
    "    elif tmp > theta:\n",
    "        return 1\n",
    "    \n",
    "AND(0, 0) # 输出0\n",
    "AND(1, 0) # 输出0\n",
    "AND(0, 1) # 输出0\n",
    "AND(1, 1) # 输出1"
   ]
  },
  {
   "cell_type": "code",
   "execution_count": 36,
   "metadata": {},
   "outputs": [
    {
     "name": "stdout",
     "output_type": "stream",
     "text": [
      "[0.  0.5]\n",
      "0.5\n",
      "-0.19999999999999996\n"
     ]
    }
   ],
   "source": [
    "# 导入权重和偏置\n",
    "import numpy as np\n",
    "x = np.array([0,1]) # 输入\n",
    "w = np.array([0.5,0.5]) # 权重\n",
    "b = -0.7 # 偏置\n",
    "print(w * x) # 元素个数相同时,各个元素分别相乘\n",
    "print(np.sum(w*x)) # 计算相乘后各个元素的总和\n",
    "print(np.sum(w*x) + b) # 约0.2(浮点运算造成u运算误差)"
   ]
  },
  {
   "cell_type": "code",
   "execution_count": 37,
   "metadata": {},
   "outputs": [],
   "source": [
    "# 使用权重和偏置,实现与门\n",
    "# 权重控制输入信号重要性的参数,偏置调整神经元被激活的容易程度\n",
    "def AND(x1, x2):\n",
    "    x = np.array([x1,x2])\n",
    "    w = np.array([0.5,0.5])\n",
    "    b = -0.7\n",
    "    tmp = np.sum(w*x) + b\n",
    "    if tmp <= 0:\n",
    "        return 0\n",
    "    else:\n",
    "        return 1"
   ]
  },
  {
   "cell_type": "code",
   "execution_count": 38,
   "metadata": {},
   "outputs": [],
   "source": [
    "# 实现与非门和或门\n",
    "def NAND(x1, x2):\n",
    "    x = np.array([x1,x2])\n",
    "    w = np.array([-0.5,-0.5]) # 仅权重和偏置与AND不同\n",
    "    b = 0.7\n",
    "    tmp = np.sum(w*x) + b\n",
    "    if tmp <= 0:\n",
    "        return 0\n",
    "    else:\n",
    "        return 1\n",
    "    \n",
    "def OR(x1, x2):\n",
    "    x = np.array([x1,x2])\n",
    "    w = np.array([0.5,0.5]) # 仅权重和偏置与AND不同\n",
    "    b = -0.2\n",
    "    tmp = np.sum(w*x) + b\n",
    "    if tmp <= 0:\n",
    "        return 0\n",
    "    else:\n",
    "        return 1"
   ]
  },
  {
   "cell_type": "code",
   "execution_count": 39,
   "metadata": {},
   "outputs": [
    {
     "data": {
      "text/plain": [
       "0"
      ]
     },
     "execution_count": 39,
     "metadata": {},
     "output_type": "execute_result"
    }
   ],
   "source": [
    "# 使用那之前定义的AND NAND OR函数实现异或门\n",
    "def XOR(x1, x2):\n",
    "    s1 = NAND(x1,x2)\n",
    "    s2 = OR(x1,x2)\n",
    "    y = AND(s1,s2)\n",
    "    return y\n",
    "\n",
    "XOR(0,0) # 输出0\n",
    "XOR(1,0) # 输出1\n",
    "XOR(0,1) # 输出1\n",
    "XOR(1,1) # 输出0"
   ]
  },
  {
   "cell_type": "markdown",
   "metadata": {},
   "source": [
    "# 第三章 神经网络\n",
    "* 激活函数(activation function)决定如何激活输入信号的总和\n",
    "* 朴素感知机指单层网络,激活函数使用阶越函数(一旦输入超过阈值,切换输出函数)的模式\n",
    "* 多层感知机指神经网络,使用sigmoid函数等平滑的激活函数的多层网络\n",
    "* 激活函数必须为非线性函数\n",
    "    * sigmoid函数\n",
    "    * ReLU函数 \n",
    "* 输出层激活函数,回归问题使用恒等函数,分类问题使用softmax函数\n",
    "* 分类问题中,输出层神经元数量设置为要分类的类别数\n",
    "* 输入数据的集合为批,通过以批为单位进行推理处理,能够实现高速的运算"
   ]
  },
  {
   "cell_type": "code",
   "execution_count": 48,
   "metadata": {},
   "outputs": [
    {
     "name": "stdout",
     "output_type": "stream",
     "text": [
      "[-1.  1.  2.]\n",
      "[False  True  True]\n",
      "[0 1 1]\n"
     ]
    }
   ],
   "source": [
    "# 阶越函数的实现\n",
    "# x仅接受实数(浮点数),不允许参数取Numpy数组\n",
    "def step_function(x):\n",
    "    if x > 0:\n",
    "        return 1\n",
    "    else:\n",
    "        return 0\n",
    "    \n",
    "# 支持Numpy数组\n",
    "def step_function(x):\n",
    "    y = x > 0\n",
    "    return y.astype(np.int)\n",
    "\n",
    "# numpy数组x,并进行不等号运算\n",
    "# numpy数组进行不等号运算后,数组各个元素都进行不等号运算,生成一个布尔型数组\n",
    "# 大于0的元素转为True,小于0转为False.生产一个新的数组y\n",
    "import numpy as np\n",
    "x = np.array([-1.0,1.0,2.0])\n",
    "print(x)\n",
    "y = x > 0\n",
    "print(y)\n",
    "\n",
    "y = y.astype(np.int) # 将数组y的元素类型从布尔型转为int型\n",
    "print(y)\n",
    "# astype()转换numpy数组类型"
   ]
  },
  {
   "cell_type": "code",
   "execution_count": 51,
   "metadata": {},
   "outputs": [
    {
     "data": {
      "image/png": "[encoded data removed]",
      "text/plain": [
       "<Figure size 432x288 with 1 Axes>"
      ]
     },
     "metadata": {
      "needs_background": "light"
     },
     "output_type": "display_data"
    }
   ],
   "source": [
    "# 阶越函数的图形\n",
    "import numpy as np\n",
    "import matplotlib.pylab as plt\n",
    "\n",
    "def step_function(x):\n",
    "    return np.array(x > 0, dtype=np.int)\n",
    "\n",
    "x = np.arange(-5.0, 5.0, 0.1)\n",
    "y = step_function(x)\n",
    "plt.plot(x,y)\n",
    "plt.ylim(-0.1, 1.1) # 指定y轴的范围\n",
    "plt.show()"
   ]
  },
  {
   "cell_type": "code",
   "execution_count": 55,
   "metadata": {},
   "outputs": [
    {
     "name": "stdout",
     "output_type": "stream",
     "text": [
      "[0.26894142 0.73105858 0.88079708]\n",
      "[2. 3. 4.]\n",
      "[1.         0.5        0.33333333]\n"
     ]
    }
   ],
   "source": [
    "# sigmoid函数的实现\n",
    "def sigmoid(x):\n",
    "    return 1 / (1 + np.exp(-x))\n",
    "\n",
    "x = np.array([-1.0, 1.0, 2.0])\n",
    "print(sigmoid(x))\n",
    "\n",
    "t = np.array([1.0, 2.0, 3.0])\n",
    "print(1.0 + t)\n",
    "print(1.0 / t)"
   ]
  },
  {
   "cell_type": "code",
   "execution_count": 10,
   "metadata": {},
   "outputs": [
    {
     "data": {
      "image/png": "[encoded data removed]",
      "text/plain": [
       "<Figure size 432x288 with 1 Axes>"
      ]
     },
     "metadata": {
      "needs_background": "light"
     },
     "output_type": "display_data"
    }
   ],
   "source": [
    "# sigmoid图形\n",
    "import numpy as np\n",
    "import matplotlib.pylab as plt\n",
    "\n",
    "def sigmoid(x):\n",
    "    return 1 / (1 + np.exp(-x))\n",
    "\n",
    "x = np.arange(-5.0, 5.0, 0.1)\n",
    "y = sigmoid(x)\n",
    "plt.plot(x,y)\n",
    "plt.ylim(-0.1, 1.1) # 指定y轴的范围\n",
    "plt.show()"
   ]
  },
  {
   "cell_type": "code",
   "execution_count": 60,
   "metadata": {},
   "outputs": [
    {
     "data": {
      "image/png": "[encoded data removed]",
      "text/plain": [
       "<Figure size 432x288 with 1 Axes>"
      ]
     },
     "metadata": {
      "needs_background": "light"
     },
     "output_type": "display_data"
    }
   ],
   "source": [
    "# ReLU函数\n",
    "# Rectified linear unit\n",
    "# 输入大于0输出该值,小于等于0输出0\n",
    "def relu(x):\n",
    "    return np.maximum(0,x)\n",
    "# maximum函数从输入函数中选择较大的值输出\n",
    "\n",
    "x = np.arange(-5.0, 5.0, 0.1)\n",
    "y = relu(x)\n",
    "plt.plot(x,y)\n",
    "plt.xlim(-6, 6) # 指定x轴范围\n",
    "plt.ylim(-1, 5.5) # 指定y轴的范围\n",
    "plt.show()"
   ]
  },
  {
   "cell_type": "code",
   "execution_count": 63,
   "metadata": {},
   "outputs": [
    {
     "name": "stdout",
     "output_type": "stream",
     "text": [
      "[1 2 3 4]\n",
      "1\n",
      "(4,)\n",
      "4\n",
      "[[1 2]\n",
      " [3 4]\n",
      " [5 6]]\n",
      "2\n",
      "(3, 2)\n"
     ]
    }
   ],
   "source": [
    "# 多维数组\n",
    "import numpy as np\n",
    "A = np.array([1,2,3,4])\n",
    "print(A)\n",
    "print(np.ndim(A)) # np.dim()得到数组维数\n",
    "print(A.shape) # shape得到形状\n",
    "print(A.shape[0])\n",
    "\n",
    "B = np.array([[1,2],[3,4],[5,6]])\n",
    "print(B)\n",
    "print(np.ndim(B))\n",
    "print(B.shape) # (3,2)第一维有3个元素,第二维2个元素"
   ]
  },
  {
   "cell_type": "code",
   "execution_count": 68,
   "metadata": {},
   "outputs": [
    {
     "name": "stdout",
     "output_type": "stream",
     "text": [
      "(2, 2)\n",
      "(2, 2)\n",
      "[[19 22]\n",
      " [43 50]]\n",
      "(2, 3)\n"
     ]
    },
    {
     "ename": "TypeError",
     "evalue": "array() takes from 1 to 2 positional arguments but 3 were given",
     "output_type": "error",
     "traceback": [
      "\u001b[0;31m---------------------------------------------------------------------------\u001b[0m",
      "\u001b[0;31mTypeError\u001b[0m                                 Traceback (most recent call last)",
      "\u001b[0;32m<ipython-input-68-03eda5178fe2>\u001b[0m in \u001b[0;36m<module>\u001b[0;34m\u001b[0m\n\u001b[1;32m      8\u001b[0m \u001b[0mA\u001b[0m \u001b[0;34m=\u001b[0m \u001b[0mnp\u001b[0m\u001b[0;34m.\u001b[0m\u001b[0marray\u001b[0m\u001b[0;34m(\u001b[0m\u001b[0;34m[\u001b[0m\u001b[0;34m[\u001b[0m\u001b[0;36m1\u001b[0m\u001b[0;34m,\u001b[0m\u001b[0;36m2\u001b[0m\u001b[0;34m,\u001b[0m\u001b[0;36m3\u001b[0m\u001b[0;34m]\u001b[0m\u001b[0;34m,\u001b[0m\u001b[0;34m[\u001b[0m\u001b[0;36m4\u001b[0m\u001b[0;34m,\u001b[0m\u001b[0;36m5\u001b[0m\u001b[0;34m,\u001b[0m\u001b[0;36m6\u001b[0m\u001b[0;34m]\u001b[0m\u001b[0;34m]\u001b[0m\u001b[0;34m)\u001b[0m\u001b[0;34m\u001b[0m\u001b[0;34m\u001b[0m\u001b[0m\n\u001b[1;32m      9\u001b[0m \u001b[0mprint\u001b[0m\u001b[0;34m(\u001b[0m\u001b[0mA\u001b[0m\u001b[0;34m.\u001b[0m\u001b[0mshape\u001b[0m\u001b[0;34m)\u001b[0m\u001b[0;34m\u001b[0m\u001b[0;34m\u001b[0m\u001b[0m\n\u001b[0;32m---> 10\u001b[0;31m \u001b[0mB\u001b[0m \u001b[0;34m=\u001b[0m \u001b[0mnp\u001b[0m\u001b[0;34m.\u001b[0m\u001b[0marray\u001b[0m\u001b[0;34m(\u001b[0m\u001b[0;34m[\u001b[0m\u001b[0;36m1\u001b[0m\u001b[0;34m,\u001b[0m\u001b[0;36m2\u001b[0m\u001b[0;34m]\u001b[0m\u001b[0;34m,\u001b[0m\u001b[0;34m[\u001b[0m\u001b[0;36m3\u001b[0m\u001b[0;34m,\u001b[0m\u001b[0;36m4\u001b[0m\u001b[0;34m]\u001b[0m\u001b[0;34m,\u001b[0m\u001b[0;34m[\u001b[0m\u001b[0;36m5\u001b[0m\u001b[0;34m,\u001b[0m\u001b[0;36m6\u001b[0m\u001b[0;34m]\u001b[0m\u001b[0;34m)\u001b[0m\u001b[0;34m\u001b[0m\u001b[0;34m\u001b[0m\u001b[0m\n\u001b[0m\u001b[1;32m     11\u001b[0m \u001b[0mprint\u001b[0m\u001b[0;34m(\u001b[0m\u001b[0mB\u001b[0m\u001b[0;34m.\u001b[0m\u001b[0mshape\u001b[0m\u001b[0;34m)\u001b[0m\u001b[0;34m\u001b[0m\u001b[0;34m\u001b[0m\u001b[0m\n\u001b[1;32m     12\u001b[0m \u001b[0mprint\u001b[0m\u001b[0;34m(\u001b[0m\u001b[0mnp\u001b[0m\u001b[0;34m.\u001b[0m\u001b[0mdot\u001b[0m\u001b[0;34m(\u001b[0m\u001b[0mA\u001b[0m\u001b[0;34m,\u001b[0m\u001b[0mB\u001b[0m\u001b[0;34m)\u001b[0m\u001b[0;34m)\u001b[0m \u001b[0;31m# 报错,对应维度的元素个数应一致\u001b[0m\u001b[0;34m\u001b[0m\u001b[0;34m\u001b[0m\u001b[0m\n",
      "\u001b[0;31mTypeError\u001b[0m: array() takes from 1 to 2 positional arguments but 3 were given"
     ]
    }
   ],
   "source": [
    "# 矩阵乘法\n",
    "A = np.array([[1,2],[3,4]])\n",
    "print(A.shape)\n",
    "B = np.array([[5,6],[7,8]])\n",
    "print(B.shape)\n",
    "print(np.dot(A,B)) # np.dot()计算点乘\n",
    "\n",
    "A = np.array([[1,2,3],[4,5,6]])\n",
    "print(A.shape)\n",
    "B = np.array([1,2],[3,4],[5,6])\n",
    "print(B.shape)\n",
    "print(np.dot(A,B)) # 报错,对应维度的元素个数应一致"
   ]
  },
  {
   "cell_type": "code",
   "execution_count": 69,
   "metadata": {},
   "outputs": [
    {
     "name": "stdout",
     "output_type": "stream",
     "text": [
      "(3, 2)\n",
      "(2,)\n",
      "[23 53 83]\n"
     ]
    }
   ],
   "source": [
    "# 多维数组点乘\n",
    "A = np.array([[1,2],[3,4],[5,6]])\n",
    "print(A.shape)\n",
    "B = np.array([7,8])\n",
    "print(B.shape)\n",
    "print(np.dot(A,B))"
   ]
  },
  {
   "cell_type": "code",
   "execution_count": 70,
   "metadata": {},
   "outputs": [
    {
     "name": "stdout",
     "output_type": "stream",
     "text": [
      "(2,)\n",
      "[[1 3 5]\n",
      " [2 4 6]]\n",
      "(2, 3)\n",
      "[ 5 11 17]\n"
     ]
    }
   ],
   "source": [
    "# 神经网络的内积\n",
    "X = np.array([1,2])\n",
    "print(X.shape)\n",
    "W = np.array([[1,3,5],[2,4,6]])\n",
    "print(W)\n",
    "print(W.shape)\n",
    "Y = np.dot(X, W)\n",
    "print(Y)"
   ]
  },
  {
   "cell_type": "code",
   "execution_count": 76,
   "metadata": {},
   "outputs": [
    {
     "name": "stdout",
     "output_type": "stream",
     "text": [
      "(2, 3)\n",
      "(2,)\n",
      "(3,)\n",
      "[0.3 0.7 1.1]\n",
      "[0.57444252 0.66818777 0.75026011]\n",
      "(3,)\n",
      "(2, 3)\n",
      "(2,)\n",
      "[0.62624937 0.7710107 ]\n",
      "[0.31682708 0.69627909]\n"
     ]
    }
   ],
   "source": [
    "# 3层神经网络的实现\n",
    "# 输入层到第一层信号传递\n",
    "X = np.array([1.0,0.5])\n",
    "W1 = np.array([[0.1,0.3,0.5], [0.2,0.4,0.6]])\n",
    "B1 = np.array([0.1,0.2,0.3])\n",
    "\n",
    "print(W1.shape) # (2,3)\n",
    "print(X.shape) # (2,)\n",
    "print(B1.shape) # (3,)\n",
    "A1 = np.dot(X,W1) + B1\n",
    "\n",
    "Z1 = sigmoid(A1) # sigmoid激活函数\n",
    "print(A1) # [0.3,0.7,1.1]\n",
    "print(Z1) # [0.57444252 0.66818777 0.75026011]\n",
    "\n",
    "# 实现第一层到第二层信号传递\n",
    "W2 = np.array([[0.1,0.4],[0.2,0.5],[0.3,0.6]])\n",
    "B2 = np.array([0.1,0.2])\n",
    "\n",
    "print(Z1.shape) # (3,)\n",
    "print(W1.shape) # (3,2)\n",
    "print(B2.shape) # (2,)\n",
    "\n",
    "A2 = np.dot(Z1,W2) + B2\n",
    "Z2 = sigmoid(A2)\n",
    "print(Z2)\n",
    "\n",
    "# 第二层到输出层的信号传递\n",
    "# identify_function()恒等函数\n",
    "def identify_function(x):\n",
    "    return x\n",
    "\n",
    "W3 = np.array([[0.1,0.3],[0.2,0.4]])\n",
    "B3 = np.array([0.1,0.2])\n",
    "\n",
    "A3 = np.dot(Z2,W3) + B3\n",
    "Y = identify_function(A3) # 或者Y = A3\n",
    "print(Y)"
   ]
  },
  {
   "cell_type": "code",
   "execution_count": 78,
   "metadata": {},
   "outputs": [
    {
     "name": "stdout",
     "output_type": "stream",
     "text": [
      "[0.31682708 0.69627909]\n"
     ]
    }
   ],
   "source": [
    "# 代码小结\n",
    "# 定义init_network()和forward()进行权重和偏置的初始化,并保存在字典变量network中\n",
    "# network保存了每层所需的参数,forword()函数封装了将输入信号转为输出信号的处理过程\n",
    "# forword(前向)从输入到输出处理\n",
    "def init_network():\n",
    "    network = {}\n",
    "    network['W1'] = np.array([[0.1,0.3,0.5],[0.2,0.4,0.6]])\n",
    "    network['b1'] = np.array([0.1,0.2,0.3])\n",
    "    network['W2'] = np.array([[0.1,0.4],[0.2,0.5],[0.3,0.6]])\n",
    "    network['b2'] = np.array([0.1,0.2])\n",
    "    network['W3'] = np.array([[0.1,0.3],[0.2,0.4]])\n",
    "    network['b3'] = np.array([0.1,0.2])\n",
    "    \n",
    "    return network\n",
    "\n",
    "def forward(network, x):\n",
    "    W1, W2, W3 = network['W1'], network['W2'], network['W3']\n",
    "    b1, b2, b3 = network['b1'], network['b2'], network['b3']\n",
    "    \n",
    "    a1 = np.dot(x, W1) + b1\n",
    "    z1 = sigmoid(a1)\n",
    "    a2 = np.dot(z1, W2) + b2\n",
    "    z2 = sigmoid(a2)\n",
    "    a3 = np.dot(z2, W3) + b3\n",
    "    y  = identify_function(a3)\n",
    "    \n",
    "    return y\n",
    "\n",
    "network = init_network()\n",
    "x = np.array([1.0,0.5])\n",
    "y = forward(network,x)\n",
    "print(y) # [0.31682708 0.69627909]"
   ]
  },
  {
   "cell_type": "code",
   "execution_count": 13,
   "metadata": {},
   "outputs": [
    {
     "name": "stdout",
     "output_type": "stream",
     "text": [
      "[ 1.34985881 18.17414537 54.59815003]\n",
      "74.1221542101633\n",
      "[0.01821127 0.24519181 0.73659691]\n"
     ]
    }
   ],
   "source": [
    "# 输出层设计\n",
    "# 回归问题用恒等函数,分类函数用softmax函数\n",
    "# 分类函数是数据属于哪一类的问题,如区分图像中的人是男性还是女性\n",
    "# 回归问题是根据某个输入预测一个(连续的)数值的问题,如根据一个人的图像预测这个人的体重\n",
    "\n",
    "# 恒等函数和softmax函数\n",
    "# 横等函数将输入按原样输出\n",
    "\n",
    "# softmax函数的实现\n",
    "a = np.array([0.3,2.9,4.0])\n",
    "exp_a = np.exp(a) # 指数函数\n",
    "print(exp_a)\n",
    "\n",
    "sum_exp_a = np.sum(exp_a) # 指数函数的和\n",
    "print(sum_exp_a)\n",
    "\n",
    "y = exp_a / sum_exp_a\n",
    "print(y)\n",
    "\n",
    "# 定义softmax函数\n",
    "def softmax(a):\n",
    "    exp_a = np.exp(a)\n",
    "    sum_exp_a = np.sum(exp_a)\n",
    "    y = exp_a / sum_exp_a\n",
    "    \n",
    "    return y"
   ]
  },
  {
   "cell_type": "code",
   "execution_count": 84,
   "metadata": {},
   "outputs": [
    {
     "name": "stdout",
     "output_type": "stream",
     "text": [
      "[  0 -10 -20]\n",
      "[9.99954600e-01 4.53978686e-05 2.06106005e-09]\n"
     ]
    },
    {
     "name": "stderr",
     "output_type": "stream",
     "text": [
      "<ipython-input-84-599eab1bd6b5>:3: RuntimeWarning: overflow encountered in exp\n",
      "  np.exp(a) / np.sum(np.exp(a)) # array([nan, nan, nan]) 无法正确计算\n",
      "<ipython-input-84-599eab1bd6b5>:3: RuntimeWarning: invalid value encountered in true_divide\n",
      "  np.exp(a) / np.sum(np.exp(a)) # array([nan, nan, nan]) 无法正确计算\n"
     ]
    }
   ],
   "source": [
    "# 溢出\n",
    "a = np.array([1010,1000,990])\n",
    "np.exp(a) / np.sum(np.exp(a)) # array([nan, nan, nan]) 无法正确计算\n",
    "\n",
    "c = np.max(a) # 1010\n",
    "print(a - c) # [  0 -10 -20]\n",
    "\n",
    "print(np.exp(a - c) / np.sum(np.exp(a - c)))# 通过减去最大值(c),实现正确计算\n",
    "# array([9.99954600e-01, 4.53978686e-05, 2.06106005e-09])\n",
    "\n",
    "# 防止溢出,使用输入信号中的最大值\n",
    "def softmax(a):\n",
    "    c = np.max(a)\n",
    "    exp_a = np.exp(a - c) # 溢出对策\n",
    "    sum_exp_a = np.sum(exp_a)\n",
    "    y = exp_a / sum_exp_a\n",
    "    \n",
    "    return y"
   ]
  },
  {
   "cell_type": "code",
   "execution_count": 14,
   "metadata": {},
   "outputs": [
    {
     "name": "stdout",
     "output_type": "stream",
     "text": [
      "[0.01821127 0.24519181 0.73659691]\n",
      "1.0\n"
     ]
    }
   ],
   "source": [
    "# 使用softmax函数\n",
    "# softmax函数输出0.0-1.0的实数,且输出值的总和为1\n",
    "# 将softmax函数的输出解释为\"概率\"\n",
    "a = np.array([0.3,2.9,4.0])\n",
    "y = softmax(a)\n",
    "print(y)\n",
    "print(np.sum(y))"
   ]
  },
  {
   "cell_type": "code",
   "execution_count": 6,
   "metadata": {},
   "outputs": [
    {
     "name": "stdout",
     "output_type": "stream",
     "text": [
      "Downloading train-images-idx3-ubyte.gz ... \n",
      "Done\n",
      "Downloading train-labels-idx1-ubyte.gz ... \n",
      "Done\n",
      "Downloading t10k-images-idx3-ubyte.gz ... \n",
      "Done\n",
      "Downloading t10k-labels-idx1-ubyte.gz ... \n",
      "Done\n",
      "Converting train-images-idx3-ubyte.gz to NumPy Array ...\n",
      "Done\n",
      "Converting train-labels-idx1-ubyte.gz to NumPy Array ...\n",
      "Done\n",
      "Converting t10k-images-idx3-ubyte.gz to NumPy Array ...\n",
      "Done\n",
      "Converting t10k-labels-idx1-ubyte.gz to NumPy Array ...\n",
      "Done\n",
      "Creating pickle file ...\n",
      "Done!\n",
      "(60000, 784)\n",
      "(60000,)\n",
      "(10000, 784)\n",
      "(10000,)\n"
     ]
    }
   ],
   "source": [
    "# MNIST数据集\n",
    "# 使用mnist.py init.py\n",
    "import sys, os\n",
    "sys.path.append(os.pardir) # 导入父目录而设定\n",
    "sys.path.insert(0, '/home/fern/Downloads/深度学习入门文件')\n",
    "from mnist import load_mnist\n",
    "\n",
    "# 第一次调用会久点\n",
    "(x_train, t_train), (x_test, t_test) = load_mnist(flatten=True, normalize=False)\n",
    "# load_mnist以(训练图像,训练标签),(测试图像,测试标签)返回MNIST数据\n",
    "# normalize设置是否将输入图像正规化为0.0-1.0,如果为False则像素保持0-255\n",
    "# flatten设置是否展开输入图像(变成一维数组)\n",
    "# 如果为False则输入图像为1x28x28的三维数组\n",
    "# 如果为True,则输入图像保存为784个元素构成的一维数组\n",
    "# one_hot_label设置是否将标签保存为ont-hot表示(one-hot representation)\n",
    "# 仅正确解标签为1,其余为0\n",
    "# one_hot_label为False像7,2这样简单保存正确标签,为True保存为one-hot表示\n",
    "\n",
    "# pickle将程序运行中的对象保存为文件,如果加载保存过的pickle文件,可立刻恢复之前程序运行中的对象\n",
    "# 利用pickle高效完成MNIST数据准备工作\n",
    "\n",
    "# 输出各个数据的形状\n",
    "print(x_train.shape) # (60000,784)\n",
    "print(t_train.shape) # (60000,)\n",
    "print(x_test.shape) # (10000,784)\n",
    "print(t_test.shape) # (10000)"
   ]
  },
  {
   "cell_type": "code",
   "execution_count": 7,
   "metadata": {},
   "outputs": [
    {
     "name": "stdout",
     "output_type": "stream",
     "text": [
      "5\n",
      "(784,)\n",
      "(28, 28)\n"
     ]
    }
   ],
   "source": [
    "# 显示MNIST图像,并确认数据\n",
    "# 图像显示使用PIL(python image library)\n",
    "\n",
    "import sys, os\n",
    "sys.path.append(os.pardir)\n",
    "import numpy as np\n",
    "sys.path.insert(0, '/home/fern/Downloads/深度学习入门文件')\n",
    "from mnist import load_mnist\n",
    "from PIL import Image\n",
    "\n",
    "def img_show(img):\n",
    "    pil_img = Image.fromarray(np.uint8(img))\n",
    "    pil_img.show()\n",
    "    \n",
    "(x_train, t_train),(x_test, t_test) = load_mnist(flatten=True,normalize=False)\n",
    "img = x_train[0]\n",
    "label = t_train[0]\n",
    "print(label) # 5\n",
    "# flatten=True读入图像以一列(一维)numpy数组形式保存\n",
    "# 显示图像时,变为原来的28x28像素的形状\n",
    "# reshape()指定形状,改变numpy数组形状\n",
    "# Image.fromarray()实现将numpy数组图像转换为PIL用的数据对象\n",
    "\n",
    "print(img.shape) # (784,)\n",
    "img = img.reshape(28,28) # 将图像形状变为原来尺寸\n",
    "print(img.shape) # (28,28)\n",
    "\n",
    "img_show(img)"
   ]
  },
  {
   "cell_type": "code",
   "execution_count": 8,
   "metadata": {},
   "outputs": [],
   "source": [
    "# 神经网络的推理处理\n",
    "# 神经网络输入层784(像素大小28x28)个神经元,输出层10个(数字0-9共10类)\n",
    "# 2个隐藏层,第一个隐藏层有50个神经元,第二个有100个(50和100可设置为任何值)\n",
    "# 定义get_data() init_network() predict()函数\n",
    "# init_network()读入保存在pickle的文件sample_weight.pkl中学习到的权重参数,以字典形式保持权重和偏置\n",
    "import pickle\n",
    "\n",
    "def get_data():\n",
    "    (x_train,t_train), (x_test,t_test) = load_mnist(normalize=True,flatten=True,one_hot_label=False)\n",
    "    return x_test, t_test\n",
    "\n",
    "def init_network():\n",
    "    with open(\"/home/fern/Downloads/深度学习入门文件/sample_weight.pkl\", 'rb') as f:\n",
    "        network = pickle.load(f)\n",
    "        \n",
    "    return network\n",
    "\n",
    "def predict(network, x):\n",
    "    W1, W2, W3 = network['W1'], network['W2'], network['W3']\n",
    "    b1, b2, b3 = network['b1'], network['b2'], network['b3']\n",
    "    a1 = np.dot(x, W1) + b1\n",
    "    z1 = sigmoid(a1)\n",
    "    a2 = np.dot(z1, W2) + b2\n",
    "    z2 = sigmoid(a2)\n",
    "    a3 = np.dot(z2, W3) + b3\n",
    "    y = softmax(a3)\n",
    "    \n",
    "    return y\n"
   ]
  },
  {
   "cell_type": "code",
   "execution_count": 15,
   "metadata": {},
   "outputs": [
    {
     "name": "stdout",
     "output_type": "stream",
     "text": [
      "Accuracy:0.9352\n"
     ]
    }
   ],
   "source": [
    "# 评价识别度(accuracy)\n",
    "# 先获取MNIST数据集,生成网络\n",
    "# 用for取出保存在x中图像的数据\n",
    "# 用predict()函数进行分类,predit()以numpy数组形式输出各个标签的概率\n",
    "# 取出概率列表最大值的索引作为预测结果,np.argmax(x)取出数组中最大值的索引\n",
    "# 比较神经网络预测答案和正确解标签,将回答正确的概率作为识别精度\n",
    "# load_mnist函数参数normalize=True,函数内部进行转换\n",
    "# 将图像各个像素值除以255,使数据在0.0-1.0范围\n",
    "# 将数据限定在某个范围的处理为正规划(normalization)\n",
    "# 对神经网络输入数据进行既定的转换为预处理(pre-processing)\n",
    "# 很多预处理会考虑到数据的整体分布,如均值或标准差,移动数据,使数据整体以0为中心分布,或正规划,数据延展控制在一定范围内\n",
    "# 将数据整体分布形状均匀化即数据白化(whitening)\n",
    "\n",
    "x, t = get_data()\n",
    "network = init_network()\n",
    "\n",
    "accuracy_cnt = 0\n",
    "for i in range(len(x)):\n",
    "    y = predict(network, x[i])\n",
    "    p = np.argmax(y) # 获取概率最高的元素索引\n",
    "    if p == t[i]:\n",
    "        accuracy_cnt += 1\n",
    "\n",
    "print(\"Accuracy:\" + str(float(accuracy_cnt) / len(x))) \n",
    "# Accuracy:0.9352"
   ]
  },
  {
   "cell_type": "code",
   "execution_count": 16,
   "metadata": {},
   "outputs": [
    {
     "name": "stdout",
     "output_type": "stream",
     "text": [
      "(10000, 784)\n",
      "(784,)\n",
      "(784, 50)\n",
      "(50, 100)\n",
      "(100, 10)\n"
     ]
    }
   ],
   "source": [
    "# 批处理\n",
    "# 输出神经网络的各层权重形状\n",
    "# 输入由784个元素(28x28的二维数组)构成的一维数组后,输出一个有10个元素的一维数组\n",
    "x, _ = get_data()\n",
    "network = init_network()\n",
    "W1, W2, W3 = network['W1'], network['W2'], network['W3']\n",
    "print(x.shape) # (10000, 784)\n",
    "print(x[0].shape) # (784,)\n",
    "print(W1.shape) # (784, 50)\n",
    "print(W2.shape) # (50, 100)\n",
    "print(W3.shape) # (100, 10)"
   ]
  },
  {
   "cell_type": "code",
   "execution_count": 19,
   "metadata": {},
   "outputs": [
    {
     "name": "stdout",
     "output_type": "stream",
     "text": [
      "[0, 1, 2, 3, 4, 5, 6, 7, 8, 9]\n",
      "[0, 3, 6, 9]\n",
      "[1 2 1 0]\n",
      "[ True  True False  True]\n",
      "3\n"
     ]
    }
   ],
   "source": [
    "# predict()函数一次性打包处理100张图像\n",
    "# x形状改为100x784,将100张图像打包作为输入数据\n",
    "# 输入形状100x784, 输出形状100x10\n",
    "# 批处理一次性计算大型数组比分开逐步计算各个小型数组速度更快\n",
    "# 批处理代码实现(batch)\n",
    "x, t = get_data()\n",
    "network = init_network()\n",
    "\n",
    "batch_size = 100 # 批数量\n",
    "accuracy_cnt = 0\n",
    "\n",
    "for i in range(0, len(x), batch_size):\n",
    "    x_batch = x[i:i+batch_size]\n",
    "    y_batch = predict(network, x_batch)\n",
    "    p = np.argmax(y_batch, axis=1)\n",
    "    accuracy_cnt = np.sum(p == t[i:i+batch_size])\n",
    "\n",
    "# range()函数\n",
    "# range(start,end)生成start到end-1的整数列表\n",
    "# range(start,end,step)生成start以step为步长到end-1的整数列表\n",
    "print(list(range(0, 10))) # [0, 1, 2, 3, 4, 5, 6, 7, 8, 9]\n",
    "print(list(range(0, 10, 3))) # [0, 3, 6, 9]\n",
    "# 在range()函数生成列表的基础上,通过x[i:i+batch_size]从输入数据中抽出批数据\n",
    "# x[i:i+batch_n]会取出从第i个到第i+batch_n个之间的数据\n",
    "# 本例中是x[0:100] x[100,200]这样,从头开始以100为步长将数据提取为批数据\n",
    "\n",
    "# argmax()获取最大的元素索引\n",
    "# axis=1,指定在100x10的数组中,沿着第一维方向找到值最大的元素索引\n",
    "x = np.array([[0.1,0.8,0.1],[0.3,0.1,0.6],[0.2,0.5,0.3],[0.8,0.1,0.1]])\n",
    "y = np.argmax(x,axis=1)\n",
    "print(y) # [1 2 1 0]\n",
    "\n",
    "# 比较以批为单位进行分类的结果和实际答案\n",
    "# numpy数组间使用比较运算符(==)生成由True/False构成的布尔型数组,并计算True个数\n",
    "y = np.array([1,2,1,0])\n",
    "t = np.array([1,2,0,0])\n",
    "print(y==t) # [ True  True False  True]\n",
    "print(np.sum(y==t)) # 3"
   ]
  },
  {
   "cell_type": "markdown",
   "metadata": {},
   "source": [
    "# 第四章 神经网络的学习\n",
    "* 学习是指从训练数据中自动获取最有权重参数的过程\n",
    "* 学习的目的是以损失函数为基准,找到能使它的值达到最小的权重参数\n",
    "* 深度学习也称为端到端机器学习(end-to-end machine learning),从一端到另一端,即从原始数据(输入)中获得目标结果(输出)的意思\n",
    "* 与待处理的问题无关,神经网络可以将数据直接作为原始数据,进行\"端对端\"的学习\n",
    "* 泛化能力指处理未被观察过的数据(不包含在训练数据中的数据)的能力,获得泛化能力是机器学习的最终目标\n",
    "* 对某个数据集过度拟合为过拟合(over fitting)\n",
    "* 损失函数(loss function),一般用均方误差和交叉熵误差"
   ]
  },
  {
   "cell_type": "code",
   "execution_count": 9,
   "metadata": {},
   "outputs": [
    {
     "name": "stdout",
     "output_type": "stream",
     "text": [
      "0.09750000000000003\n",
      "0.5975\n"
     ]
    }
   ],
   "source": [
    "# 均方误差(mean squared error)\n",
    "\n",
    "y = [0.1,0.05,0.6,0.0,0.05,0.1,0.0,0.1,0.0,0.0] # 概率\n",
    "t = [0,0,1,0,0,0,0,0,0,0] # 正确为1,其他为0,one-hot表示\n",
    "def mean_squared_error(y, t):\n",
    "    return 0.5 * np.sum((y-t)**2)\n",
    "\n",
    "# 使用\n",
    "# 设\"2\"为正确解\n",
    "t = [0,0,1,0,0,0,0,0,0,0]\n",
    "# \"2\"的概率最高(0.6)\n",
    "y = [0.1,0.05,0.6,0.0,0.05,0.1,0.0,0.1,0.0,0.0]\n",
    "print(mean_squared_error(np.array(y),np.array(t))) # 0.0975\n",
    "\n",
    "# \"7\"概率最高(0.6) \n",
    "y = [0.1,0.05,0.1,0.0,0.05,0.1,0.0,0.6,0.0,0.0]\n",
    "print(mean_squared_error(np.array(y),np.array(t))) # 0.5975\n",
    "# 均方误差越小越吻合监督数据"
   ]
  },
  {
   "cell_type": "code",
   "execution_count": 10,
   "metadata": {},
   "outputs": [
    {
     "name": "stdout",
     "output_type": "stream",
     "text": [
      "0.510825457099338\n",
      "2.302584092994546\n"
     ]
    }
   ],
   "source": [
    "# 交叉熵误差(cross entropy error)\n",
    "# 交叉熵误差的值由正确解标签对应的输出结果决定\n",
    "\n",
    "def cross_entropy_error(y, t):\n",
    "    delta = 1e-7\n",
    "    return -np.sum(t * np.log(y + delta))\n",
    "\n",
    "# 计算np.log时,加上一个微小值delta,因为当np.log(0)结果为-inf,导致后续计算无法进行\n",
    "# 加入一个微小值防止负无限大的发生\n",
    "\n",
    "# 使用\n",
    "t = [0,0,1,0,0,0,0,0,0,0]\n",
    "y = [0.1,0.05,0.6,0.0,0.05,0.1,0.0,0.1,0.0,0.0]\n",
    "print(cross_entropy_error(np.array(y),np.array(t))) # 0.510825457099338\n",
    "\n",
    "y = [0.1,0.05,0.1,0.0,0.05,0.1,0.0,0.6,0.0,0.0]\n",
    "print(cross_entropy_error(np.array(y),np.array(t))) # 2.302584092994546"
   ]
  },
  {
   "cell_type": "code",
   "execution_count": 11,
   "metadata": {},
   "outputs": [
    {
     "name": "stdout",
     "output_type": "stream",
     "text": [
      "(60000, 784)\n",
      "(60000, 10)\n",
      "[ 264 1893 2273 4796 3725  590 3422 4277 2499 4151]\n"
     ]
    }
   ],
   "source": [
    "# mini-batch学习 小批量学习\n",
    "# 读入MNIST数据集代码\n",
    "import numpy as np\n",
    "import sys, os\n",
    "sys.path.append(os.pardir)\n",
    "sys.path.insert(0, '/home/fern/Downloads/深度学习入门文件')\n",
    "from mnist import load_mnist\n",
    "\n",
    "(x_train, t_train), (x_test, t_test) = load_mnist(normalize=True, one_hot_label=True)\n",
    "\n",
    "print(x_train.shape) # (60000, 784)\n",
    "print(t_train.shape) # (60000, 10)\n",
    "# 训练数据60000个,输入数据784(28x28)的图像数据,监督数据是10维数据\n",
    "\n",
    "# 随机抽取10个数据 np.random.choice()\n",
    "train_size = x_train.shape[0]\n",
    "batch_size = 10\n",
    "batch_mask = np.random.choice(train_size,batch_size)\n",
    "x_batch = x_train[batch_mask]\n",
    "t_batch = t_train[batch_mask]\n",
    "\n",
    "# np.random.choice(6000,10)从0-59999间随机选择10个数字\n",
    "print(np.random.choice(6000,10))"
   ]
  },
  {
   "cell_type": "code",
   "execution_count": 12,
   "metadata": {},
   "outputs": [],
   "source": [
    "# mini-batch交叉熵误差\n",
    "def cross_entropy_error(y, t):\n",
    "    if y.ndim == 1:\n",
    "        t = t.reshape(1,t.size)\n",
    "        y = y.reshape(1,y.size)\n",
    "        \n",
    "    batch_size = y.shape[0]\n",
    "    return -np.sum(t * np.log*(y + 1e-7)) / batch_size\n",
    "# y是神经网络的输出,t是监督数据,y的维度为1时,即求单个数据的交叉熵误差,需要改变数据形状\n",
    "# 当输入为mini-batch时,要用batch的个数进行正规化,计算单个数据的平均交叉熵误差\n",
    "\n",
    "# 监督数据是标签形式(\"2\",\"7\"这样的标签)\n",
    "def cross_entropy_error(y,t):\n",
    "    if y.ndim == 1:\n",
    "        t = t.reshape(1,t.size)\n",
    "        y = y.reshape(1,y.size)\n",
    "        \n",
    "    batch_size = y.shape[0]\n",
    "    return -np.sum(np.log(y[np.arage(batch_size),t] + 1e-7)) / batch_size\n",
    "# one-hot中t为0的元素交叉熵误差为0,可忽略,即获得神经网络在正确解标签处的输出就可以计算交叉熵误差\n",
    "# t为one-hot表示时通过t*np.log(y)计算\n",
    "# 在t为标签形式用np.log(y[np.arage(batch_size),t])实现(为便于观察,省略1e-7)\n",
    "# np.arage(batch_size)生成从0-batch_size的数组,t中标签以[2,7,0,9,4]形式存储\n",
    "# y[np.arage(batch_size),t]抽出各个数据的正确解标签对应神经网络的输出\n",
    "# 生成numpy数组[y[0,2],y[1,7],y[2,0],y[3,9],y[4,4]]\n",
    "\n",
    "# 阶越函数斜率绝大多数为0,sigmoid函数斜率不为0\n",
    "# 识别精度作为指标,参数导数在绝大多数为0"
   ]
  },
  {
   "cell_type": "code",
   "execution_count": 13,
   "metadata": {},
   "outputs": [
    {
     "data": {
      "image/png": "[encoded data removed]",
      "text/plain": [
       "<Figure size 432x288 with 1 Axes>"
      ]
     },
     "metadata": {
      "needs_background": "light"
     },
     "output_type": "display_data"
    },
    {
     "name": "stdout",
     "output_type": "stream",
     "text": [
      "0.1999999999990898\n",
      "0.2999999999986347\n"
     ]
    }
   ],
   "source": [
    "# 数值微分\n",
    "# 舍入误差(rounding error)指省略小数的精细部分数值而造成最终计算结果的误差\n",
    "\n",
    "# 实现数值微分\n",
    "# 中心差分f在(x+h)和(x-h)间的差分,前向差分(x+h)和x间的差分\n",
    "def numerical_diff(f,x):\n",
    "    h = 1e-4 # 0.0001\n",
    "    return (f(x+h) - f(x-h)) / (2*h)\n",
    "\n",
    "# 对2次函数求导\n",
    "def function_1(x):\n",
    "    return 0.01*x**2 + 0.1*x\n",
    "\n",
    "# 绘制函数图像\n",
    "import numpy as np\n",
    "import matplotlib.pylab as plt\n",
    "\n",
    "x = np.arange(0.0, 20.0, 0.1) # 以0.1为步长,从0-20的数组x\n",
    "y = function_1(x)\n",
    "plt.xlabel(\"x\")\n",
    "plt.ylabel(\"f(x)\")\n",
    "plt.plot(x,y)\n",
    "plt.show()\n",
    "\n",
    "# 计算函数在x=5和x=10处的导数\n",
    "print(numerical_diff(function_1,5))  # 0.1999999999990898\n",
    "print(numerical_diff(function_1,10)) # 0.2999999999986347"
   ]
  },
  {
   "cell_type": "code",
   "execution_count": 14,
   "metadata": {},
   "outputs": [
    {
     "name": "stdout",
     "output_type": "stream",
     "text": [
      "6.00000000000378\n",
      "7.999999999999119\n"
     ]
    }
   ],
   "source": [
    "# 偏导数\n",
    "def function_2(x):\n",
    "    return x[0]**2 + x[1]**2\n",
    "# 或return np.sum(x**2)\n",
    "\n",
    "# 求x0=3,x1=4时,关于x0的偏导数\n",
    "def function_tmp1(x0):\n",
    "    return x0*x0 + 4.0**2.0\n",
    "print(numerical_diff(function_tmp1, 3.0)) # 6.00000000000378\n",
    "\n",
    "# 求x0=3,x1=4时,关于x1的偏导数\n",
    "def function_tmp2(x1):\n",
    "    return 3.0**2.0 + x1*x1\n",
    "print(numerical_diff(function_tmp2, 4.0)) # 7.999999999999119"
   ]
  },
  {
   "cell_type": "code",
   "execution_count": 19,
   "metadata": {},
   "outputs": [
    {
     "name": "stdout",
     "output_type": "stream",
     "text": [
      "[6. 8.]\n",
      "[0. 4.]\n",
      "[6. 0.]\n"
     ]
    }
   ],
   "source": [
    "# 梯度(gradient)\n",
    "def numerical_gradient(f,x):\n",
    "    h = 1e-4 # 0.0001\n",
    "    grad = np.zeros_like(x) # 生成和x形状相同的数组\n",
    "    \n",
    "    for idx in range(x.size):\n",
    "        tmp_val = x[idx]\n",
    "        # f(x+h)的计算\n",
    "        x[idx] = tmp_val + h\n",
    "        fxh1 = f(x)\n",
    "        \n",
    "        # f(x-h)的计算\n",
    "        x[idx] = tmp_val - h\n",
    "        fxh2 = f(x)\n",
    "        \n",
    "        grad[idx] = (fxh1 - fxh2) / (2*h)\n",
    "        x[idx] = tmp_val # 还原值\n",
    "        \n",
    "    return grad\n",
    "# np.zeros_like(x)生成一个形状和x相同,所有元素都为0的数组\n",
    "\n",
    "# 求(3,4) (0,2) (3,0)处的梯度\n",
    "print(numerical_gradient(function_2, np.array([3.0,4.0]))) # [6. 8.]\n",
    "print(numerical_gradient(function_2, np.array([0.0,2.0]))) # [0. 4.]\n",
    "print(numerical_gradient(function_2, np.array([3.0,0.0]))) # [6. 0.]"
   ]
  },
  {
   "cell_type": "code",
   "execution_count": 23,
   "metadata": {},
   "outputs": [
    {
     "name": "stderr",
     "output_type": "stream",
     "text": [
      "No handles with labels found to put in legend.\n"
     ]
    },
    {
     "data": {
      "image/png": "[encoded data removed]",
      "text/plain": [
       "<Figure size 432x288 with 1 Axes>"
      ]
     },
     "metadata": {
      "needs_background": "light"
     },
     "output_type": "display_data"
    }
   ],
   "source": [
    "# P135\n",
    "# 源代码 ch04/gradient_2d.py\n",
    "import numpy as np\n",
    "import matplotlib.pylab as plt\n",
    "from mpl_toolkits.mplot3d import Axes3D\n",
    "\n",
    "\n",
    "def _numerical_gradient_no_batch(f, x):\n",
    "    h = 1e-4 # 0.0001\n",
    "    grad = np.zeros_like(x)\n",
    "    \n",
    "    for idx in range(x.size):\n",
    "        tmp_val = x[idx]\n",
    "        x[idx] = float(tmp_val) + h\n",
    "        fxh1 = f(x) # f(x+h)\n",
    "        \n",
    "        x[idx] = tmp_val - h \n",
    "        fxh2 = f(x) # f(x-h)\n",
    "        grad[idx] = (fxh1 - fxh2) / (2*h)\n",
    "        \n",
    "        x[idx] = tmp_val # 还原值\n",
    "        \n",
    "    return grad\n",
    "\n",
    "\n",
    "def numerical_gradient(f, X):\n",
    "    if X.ndim == 1:\n",
    "        return _numerical_gradient_no_batch(f, X)\n",
    "    else:\n",
    "        grad = np.zeros_like(X)\n",
    "        \n",
    "        for idx, x in enumerate(X):\n",
    "            grad[idx] = _numerical_gradient_no_batch(f, x)\n",
    "        \n",
    "        return grad\n",
    "\n",
    "\n",
    "def function_2(x):\n",
    "    if x.ndim == 1:\n",
    "        return np.sum(x**2)\n",
    "    else:\n",
    "        return np.sum(x**2, axis=1)\n",
    "\n",
    "\n",
    "def tangent_line(f, x):\n",
    "    d = numerical_gradient(f, x)\n",
    "    print(d)\n",
    "    y = f(x) - d*x\n",
    "    return lambda t: d*t + y\n",
    "     \n",
    "if __name__ == '__main__':\n",
    "    x0 = np.arange(-2, 2.5, 0.25)\n",
    "    x1 = np.arange(-2, 2.5, 0.25)\n",
    "    X, Y = np.meshgrid(x0, x1)\n",
    "    \n",
    "    X = X.flatten()\n",
    "    Y = Y.flatten()\n",
    "    \n",
    "    grad = numerical_gradient(function_2, np.array([X, Y]) )\n",
    "    \n",
    "    plt.figure()\n",
    "    plt.quiver(X, Y, -grad[0], -grad[1],  angles=\"xy\",color=\"#666666\")#,headwidth=10,scale=40,color=\"#444444\")\n",
    "    plt.xlim([-2, 2])\n",
    "    plt.ylim([-2, 2])\n",
    "    plt.xlabel('x0')\n",
    "    plt.ylabel('x1')\n",
    "    plt.grid()\n",
    "    plt.legend()\n",
    "    plt.draw()\n",
    "    plt.show()"
   ]
  },
  {
   "cell_type": "code",
   "execution_count": 33,
   "metadata": {},
   "outputs": [
    {
     "name": "stdout",
     "output_type": "stream",
     "text": [
      "[-6.11110793e-10  8.14814391e-10]\n"
     ]
    }
   ],
   "source": [
    "# 梯度指示的方向是各点处的函数值减小最多的方向\n",
    "# 函数极小值 最小值 鞍点(saddle point)梯度为0\n",
    "# 鞍点是从某方向看是极大值,从另一个方向看是极小值的点\n",
    "# 梯度法:沿梯度方向前进,逐渐减小函数值的过程\n",
    "\n",
    "# 实现梯度下降法(寻找最小值)\n",
    "def gradient_descent(f, init_x, lr=0.01, step_num=100):\n",
    "    x = init_x\n",
    "    \n",
    "    for i in range(step_num):\n",
    "        grad = numerical_gradient(f, x)\n",
    "        x -= lr * grad\n",
    "        \n",
    "    return x\n",
    "# f是进行优化的函数,init_x是初始值,lr是学习率,step_num是梯度重复次数\n",
    "\n",
    "# 用梯度法求最小值\n",
    "def function_2(x):\n",
    "    return x[0]**2+ x[1]**2\n",
    "\n",
    "init_x = np.array([-3.0,4.0])\n",
    "print(gradient_descent(function_2, init_x=init_x, lr=0.1, step_num=100))\n",
    "# [-6.11110793e-10  8.14814391e-10]\n",
    "# 初始值(-3.0, 4.0),真实最小值为(0,0)\n"
   ]
  },
  {
   "cell_type": "code",
   "execution_count": 27,
   "metadata": {},
   "outputs": [
    {
     "data": {
      "image/png": "[encoded data removed]",
      "text/plain": [
       "<Figure size 432x288 with 1 Axes>"
      ]
     },
     "metadata": {
      "needs_background": "light"
     },
     "output_type": "display_data"
    }
   ],
   "source": [
    "# P138\n",
    "# 源码 ch04/gradient_method.py\n",
    "# 无等高线\n",
    "import numpy as np\n",
    "import matplotlib.pylab as plt\n",
    "\n",
    "def numerical_gradient(f, X):\n",
    "    if X.ndim == 1:\n",
    "        return _numerical_gradient_no_batch(f, X)\n",
    "    else:\n",
    "        grad = np.zeros_like(X)\n",
    "        \n",
    "        for idx, x in enumerate(X):\n",
    "            grad[idx] = _numerical_gradient_no_batch(f, x)\n",
    "        \n",
    "        return grad\n",
    "\n",
    "def gradient_descent(f, init_x, lr=0.01, step_num=100):\n",
    "    x = init_x\n",
    "    x_history = []\n",
    "\n",
    "    for i in range(step_num):\n",
    "        x_history.append( x.copy() )\n",
    "\n",
    "        grad = numerical_gradient(f, x)\n",
    "        x -= lr * grad\n",
    "\n",
    "    return x, np.array(x_history)\n",
    "\n",
    "\n",
    "def function_2(x):\n",
    "    return x[0]**2 + x[1]**2\n",
    "\n",
    "init_x = np.array([-3.0, 4.0])    \n",
    "\n",
    "lr = 0.1\n",
    "step_num = 20\n",
    "x, x_history = gradient_descent(function_2, init_x, lr=lr, step_num=step_num)\n",
    "\n",
    "plt.plot( [-5, 5], [0,0], '--b')\n",
    "plt.plot( [0,0], [-5, 5], '--b')\n",
    "plt.plot(x_history[:,0], x_history[:,1], 'o')\n",
    "\n",
    "plt.xlim(-3.5, 3.5)\n",
    "plt.ylim(-4.5, 4.5)\n",
    "plt.xlabel(\"X0\")\n",
    "plt.ylabel(\"X1\")\n",
    "plt.show()"
   ]
  },
  {
   "cell_type": "code",
   "execution_count": 32,
   "metadata": {},
   "outputs": [
    {
     "name": "stdout",
     "output_type": "stream",
     "text": [
      "(array([-2.58983747e+13, -1.29524862e+12]), array([[-3.00000000e+00,  4.00000000e+00],\n",
      "       [ 5.70000000e+01, -7.60000000e+01],\n",
      "       [-1.08300000e+03,  1.44400000e+03],\n",
      "       [ 2.05770000e+04, -2.74360000e+04],\n",
      "       [-3.90963008e+05,  5.21284002e+05],\n",
      "       [ 7.42829664e+06, -9.90439654e+06],\n",
      "       [-1.41137328e+08,  1.88183103e+08],\n",
      "       [ 2.68126267e+09, -3.57501690e+09],\n",
      "       [-5.09763373e+10,  6.79001831e+10],\n",
      "       [ 9.45170863e+11, -1.29524862e+12],\n",
      "       [-2.58983747e+13, -1.29524862e+12],\n",
      "       [-2.58983747e+13, -1.29524862e+12],\n",
      "       [-2.58983747e+13, -1.29524862e+12],\n",
      "       [-2.58983747e+13, -1.29524862e+12],\n",
      "       [-2.58983747e+13, -1.29524862e+12],\n",
      "       [-2.58983747e+13, -1.29524862e+12],\n",
      "       [-2.58983747e+13, -1.29524862e+12],\n",
      "       [-2.58983747e+13, -1.29524862e+12],\n",
      "       [-2.58983747e+13, -1.29524862e+12],\n",
      "       [-2.58983747e+13, -1.29524862e+12],\n",
      "       [-2.58983747e+13, -1.29524862e+12],\n",
      "       [-2.58983747e+13, -1.29524862e+12],\n",
      "       [-2.58983747e+13, -1.29524862e+12],\n",
      "       [-2.58983747e+13, -1.29524862e+12],\n",
      "       [-2.58983747e+13, -1.29524862e+12],\n",
      "       [-2.58983747e+13, -1.29524862e+12],\n",
      "       [-2.58983747e+13, -1.29524862e+12],\n",
      "       [-2.58983747e+13, -1.29524862e+12],\n",
      "       [-2.58983747e+13, -1.29524862e+12],\n",
      "       [-2.58983747e+13, -1.29524862e+12],\n",
      "       [-2.58983747e+13, -1.29524862e+12],\n",
      "       [-2.58983747e+13, -1.29524862e+12],\n",
      "       [-2.58983747e+13, -1.29524862e+12],\n",
      "       [-2.58983747e+13, -1.29524862e+12],\n",
      "       [-2.58983747e+13, -1.29524862e+12],\n",
      "       [-2.58983747e+13, -1.29524862e+12],\n",
      "       [-2.58983747e+13, -1.29524862e+12],\n",
      "       [-2.58983747e+13, -1.29524862e+12],\n",
      "       [-2.58983747e+13, -1.29524862e+12],\n",
      "       [-2.58983747e+13, -1.29524862e+12],\n",
      "       [-2.58983747e+13, -1.29524862e+12],\n",
      "       [-2.58983747e+13, -1.29524862e+12],\n",
      "       [-2.58983747e+13, -1.29524862e+12],\n",
      "       [-2.58983747e+13, -1.29524862e+12],\n",
      "       [-2.58983747e+13, -1.29524862e+12],\n",
      "       [-2.58983747e+13, -1.29524862e+12],\n",
      "       [-2.58983747e+13, -1.29524862e+12],\n",
      "       [-2.58983747e+13, -1.29524862e+12],\n",
      "       [-2.58983747e+13, -1.29524862e+12],\n",
      "       [-2.58983747e+13, -1.29524862e+12],\n",
      "       [-2.58983747e+13, -1.29524862e+12],\n",
      "       [-2.58983747e+13, -1.29524862e+12],\n",
      "       [-2.58983747e+13, -1.29524862e+12],\n",
      "       [-2.58983747e+13, -1.29524862e+12],\n",
      "       [-2.58983747e+13, -1.29524862e+12],\n",
      "       [-2.58983747e+13, -1.29524862e+12],\n",
      "       [-2.58983747e+13, -1.29524862e+12],\n",
      "       [-2.58983747e+13, -1.29524862e+12],\n",
      "       [-2.58983747e+13, -1.29524862e+12],\n",
      "       [-2.58983747e+13, -1.29524862e+12],\n",
      "       [-2.58983747e+13, -1.29524862e+12],\n",
      "       [-2.58983747e+13, -1.29524862e+12],\n",
      "       [-2.58983747e+13, -1.29524862e+12],\n",
      "       [-2.58983747e+13, -1.29524862e+12],\n",
      "       [-2.58983747e+13, -1.29524862e+12],\n",
      "       [-2.58983747e+13, -1.29524862e+12],\n",
      "       [-2.58983747e+13, -1.29524862e+12],\n",
      "       [-2.58983747e+13, -1.29524862e+12],\n",
      "       [-2.58983747e+13, -1.29524862e+12],\n",
      "       [-2.58983747e+13, -1.29524862e+12],\n",
      "       [-2.58983747e+13, -1.29524862e+12],\n",
      "       [-2.58983747e+13, -1.29524862e+12],\n",
      "       [-2.58983747e+13, -1.29524862e+12],\n",
      "       [-2.58983747e+13, -1.29524862e+12],\n",
      "       [-2.58983747e+13, -1.29524862e+12],\n",
      "       [-2.58983747e+13, -1.29524862e+12],\n",
      "       [-2.58983747e+13, -1.29524862e+12],\n",
      "       [-2.58983747e+13, -1.29524862e+12],\n",
      "       [-2.58983747e+13, -1.29524862e+12],\n",
      "       [-2.58983747e+13, -1.29524862e+12],\n",
      "       [-2.58983747e+13, -1.29524862e+12],\n",
      "       [-2.58983747e+13, -1.29524862e+12],\n",
      "       [-2.58983747e+13, -1.29524862e+12],\n",
      "       [-2.58983747e+13, -1.29524862e+12],\n",
      "       [-2.58983747e+13, -1.29524862e+12],\n",
      "       [-2.58983747e+13, -1.29524862e+12],\n",
      "       [-2.58983747e+13, -1.29524862e+12],\n",
      "       [-2.58983747e+13, -1.29524862e+12],\n",
      "       [-2.58983747e+13, -1.29524862e+12],\n",
      "       [-2.58983747e+13, -1.29524862e+12],\n",
      "       [-2.58983747e+13, -1.29524862e+12],\n",
      "       [-2.58983747e+13, -1.29524862e+12],\n",
      "       [-2.58983747e+13, -1.29524862e+12],\n",
      "       [-2.58983747e+13, -1.29524862e+12],\n",
      "       [-2.58983747e+13, -1.29524862e+12],\n",
      "       [-2.58983747e+13, -1.29524862e+12],\n",
      "       [-2.58983747e+13, -1.29524862e+12],\n",
      "       [-2.58983747e+13, -1.29524862e+12],\n",
      "       [-2.58983747e+13, -1.29524862e+12],\n",
      "       [-2.58983747e+13, -1.29524862e+12]]))\n",
      "(array([-2.99999994,  3.99999992]), array([[-3.        ,  4.        ],\n",
      "       [-3.        ,  4.        ],\n",
      "       [-3.        ,  4.        ],\n",
      "       [-3.        ,  4.        ],\n",
      "       [-3.        ,  4.        ],\n",
      "       [-3.        ,  4.        ],\n",
      "       [-3.        ,  4.        ],\n",
      "       [-3.        ,  3.99999999],\n",
      "       [-3.        ,  3.99999999],\n",
      "       [-2.99999999,  3.99999999],\n",
      "       [-2.99999999,  3.99999999],\n",
      "       [-2.99999999,  3.99999999],\n",
      "       [-2.99999999,  3.99999999],\n",
      "       [-2.99999999,  3.99999999],\n",
      "       [-2.99999999,  3.99999999],\n",
      "       [-2.99999999,  3.99999999],\n",
      "       [-2.99999999,  3.99999999],\n",
      "       [-2.99999999,  3.99999999],\n",
      "       [-2.99999999,  3.99999999],\n",
      "       [-2.99999999,  3.99999998],\n",
      "       [-2.99999999,  3.99999998],\n",
      "       [-2.99999999,  3.99999998],\n",
      "       [-2.99999999,  3.99999998],\n",
      "       [-2.99999999,  3.99999998],\n",
      "       [-2.99999999,  3.99999998],\n",
      "       [-2.99999998,  3.99999998],\n",
      "       [-2.99999998,  3.99999998],\n",
      "       [-2.99999998,  3.99999998],\n",
      "       [-2.99999998,  3.99999998],\n",
      "       [-2.99999998,  3.99999998],\n",
      "       [-2.99999998,  3.99999998],\n",
      "       [-2.99999998,  3.99999998],\n",
      "       [-2.99999998,  3.99999997],\n",
      "       [-2.99999998,  3.99999997],\n",
      "       [-2.99999998,  3.99999997],\n",
      "       [-2.99999998,  3.99999997],\n",
      "       [-2.99999998,  3.99999997],\n",
      "       [-2.99999998,  3.99999997],\n",
      "       [-2.99999998,  3.99999997],\n",
      "       [-2.99999998,  3.99999997],\n",
      "       [-2.99999998,  3.99999997],\n",
      "       [-2.99999998,  3.99999997],\n",
      "       [-2.99999997,  3.99999997],\n",
      "       [-2.99999997,  3.99999997],\n",
      "       [-2.99999997,  3.99999996],\n",
      "       [-2.99999997,  3.99999996],\n",
      "       [-2.99999997,  3.99999996],\n",
      "       [-2.99999997,  3.99999996],\n",
      "       [-2.99999997,  3.99999996],\n",
      "       [-2.99999997,  3.99999996],\n",
      "       [-2.99999997,  3.99999996],\n",
      "       [-2.99999997,  3.99999996],\n",
      "       [-2.99999997,  3.99999996],\n",
      "       [-2.99999997,  3.99999996],\n",
      "       [-2.99999997,  3.99999996],\n",
      "       [-2.99999997,  3.99999996],\n",
      "       [-2.99999997,  3.99999996],\n",
      "       [-2.99999997,  3.99999995],\n",
      "       [-2.99999997,  3.99999995],\n",
      "       [-2.99999996,  3.99999995],\n",
      "       [-2.99999996,  3.99999995],\n",
      "       [-2.99999996,  3.99999995],\n",
      "       [-2.99999996,  3.99999995],\n",
      "       [-2.99999996,  3.99999995],\n",
      "       [-2.99999996,  3.99999995],\n",
      "       [-2.99999996,  3.99999995],\n",
      "       [-2.99999996,  3.99999995],\n",
      "       [-2.99999996,  3.99999995],\n",
      "       [-2.99999996,  3.99999995],\n",
      "       [-2.99999996,  3.99999994],\n",
      "       [-2.99999996,  3.99999994],\n",
      "       [-2.99999996,  3.99999994],\n",
      "       [-2.99999996,  3.99999994],\n",
      "       [-2.99999996,  3.99999994],\n",
      "       [-2.99999996,  3.99999994],\n",
      "       [-2.99999995,  3.99999994],\n",
      "       [-2.99999995,  3.99999994],\n",
      "       [-2.99999995,  3.99999994],\n",
      "       [-2.99999995,  3.99999994],\n",
      "       [-2.99999995,  3.99999994],\n",
      "       [-2.99999995,  3.99999994],\n",
      "       [-2.99999995,  3.99999994],\n",
      "       [-2.99999995,  3.99999993],\n",
      "       [-2.99999995,  3.99999993],\n",
      "       [-2.99999995,  3.99999993],\n",
      "       [-2.99999995,  3.99999993],\n",
      "       [-2.99999995,  3.99999993],\n",
      "       [-2.99999995,  3.99999993],\n",
      "       [-2.99999995,  3.99999993],\n",
      "       [-2.99999995,  3.99999993],\n",
      "       [-2.99999995,  3.99999993],\n",
      "       [-2.99999995,  3.99999993],\n",
      "       [-2.99999994,  3.99999993],\n",
      "       [-2.99999994,  3.99999993],\n",
      "       [-2.99999994,  3.99999992],\n",
      "       [-2.99999994,  3.99999992],\n",
      "       [-2.99999994,  3.99999992],\n",
      "       [-2.99999994,  3.99999992],\n",
      "       [-2.99999994,  3.99999992],\n",
      "       [-2.99999994,  3.99999992]]))\n"
     ]
    }
   ],
   "source": [
    "# 学习率过大 lr=10.0\n",
    "init_x = np.array([-3.0,4.0])\n",
    "print(gradient_descent(function_2, init_x=init_x, lr=10.0, step_num=100))\n",
    "      \n",
    "# 学习率过小 lr=1e-10\n",
    "init_x = np.array([-3.0,4.0])\n",
    "print(gradient_descent(function_2, init_x=init_x, lr=1e-10, step_num=100))\n",
    "       \n",
    "# 学习率过大,会发散成一个很大的值,学习率过小,基本没更新就结束了"
   ]
  },
  {
   "cell_type": "code",
   "execution_count": 38,
   "metadata": {},
   "outputs": [
    {
     "name": "stdout",
     "output_type": "stream",
     "text": [
      "[[0.39649419 1.503361   0.40225098]\n",
      " [0.97375989 0.30483233 0.76990168]]\n",
      "[1.11428042 1.17636569 0.9342621 ]\n",
      "1\n",
      "1.244490053361593\n",
      "[[ 0.20694586  0.22020138 -0.42714724]\n",
      " [ 0.31041879  0.33030207 -0.64072087]]\n"
     ]
    }
   ],
   "source": [
    "# 神经网络的梯度\n",
    "# 实现一个simpleNet的类\n",
    "import sys, os\n",
    "sys.path.append(os.pardir)\n",
    "sys.path.insert(0, '/home/fern/Downloads/深度学习入门文件')\n",
    "from common.functions import softmax, cross_entropy_error\n",
    "from common.gradient import numerical_gradient\n",
    "\n",
    "class simpleNet:\n",
    "    def __init__(self):\n",
    "        self.W = np.random.randn(2,3) # 用高斯分布进行初始化\n",
    "\n",
    "    def predict(self, x):\n",
    "        return np.dot(x, self.W)\n",
    "\n",
    "    def loss(self, x, t):\n",
    "        z = self.predict(x)\n",
    "        y = softmax(z)\n",
    "        loss = cross_entropy_error(y, t)\n",
    "\n",
    "        return loss\n",
    "\n",
    "# 使用common/functions.py中的softmax和cross_entropy_error方法\n",
    "# 以及common/gradient.py中的numerical_gradient方法\n",
    "# simpeNet类只有一个实例变量,即i形状为2x3的权重参数\n",
    "# 两个方法,predict(x)用于预测,loss(x,t)求损失函数\n",
    "# x接受输入数据,t接受正确解标签\n",
    "  \n",
    "# 使用simpleNet()\n",
    "net = simpleNet()\n",
    "print(net.W) # 权重参数\n",
    "\n",
    "x = np.array([0.6, 0.9])\n",
    "p = net.predict(x)\n",
    "print(p)\n",
    "\n",
    "print(np.argmax(p)) # 最大值索引\n",
    "\n",
    "t = np.array([0, 0, 1]) # 正确解标签\n",
    "print(net.loss(x,t))\n",
    "\n",
    "# 求梯度\n",
    "# 使用numerical_gradient(f,x)求梯度,f(W)中的W是伪参数\n",
    "# numerical_gradient(f,x)会在内部执行f(x),为了与之兼容而定义了f(W)\n",
    "def f(W):\n",
    "    return net.loss(x,t)\n",
    "# 或f = lambda w: net.loss(x, t)\n",
    "\n",
    "dW = numerical_gradient(f, net.W)\n",
    "\n",
    "print(dW)\n",
    "\n",
    "# numerical_gradient(f,x)中f是函数"
   ]
  },
  {
   "cell_type": "code",
   "execution_count": null,
   "metadata": {},
   "outputs": [],
   "source": []
  }
 ],
 "metadata": {
  "kernelspec": {
   "display_name": "Python 3",
   "language": "python",
   "name": "python3"
  },
  "language_info": {
   "codemirror_mode": {
    "name": "ipython",
    "version": 3
   },
   "file_extension": ".py",
   "mimetype": "text/x-python",
   "name": "python",
   "nbconvert_exporter": "python",
   "pygments_lexer": "ipython3",
   "version": "3.8.3"
  }
 },
 "nbformat": 4,
 "nbformat_minor": 4
}
