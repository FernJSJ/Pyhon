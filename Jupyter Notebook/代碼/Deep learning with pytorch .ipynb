{
 "cells": [
  {
   "cell_type": "markdown",
   "metadata": {},
   "source": [
    "# Deep learning with pytorch\n",
    "## 源码地址\n",
    "* https://github.com/PacktPublishing/Deep-Learning-with-PyTorch\n",
    "\n",
    "* https://www.manning.com/books/deep-learning-with-pytorch\n",
    "\n",
    "* https://github.com/deep-learning-with-pytorch/dlwpt-code\n",
    "\n",
    "## 中文版\n",
    "* https://tangshusen.me/Deep-Learning-with-PyTorch-Chinese/#/"
   ]
  },
  {
   "cell_type": "code",
   "execution_count": null,
   "metadata": {},
   "outputs": [],
   "source": []
  },
  {
   "cell_type": "code",
   "execution_count": null,
   "metadata": {},
   "outputs": [],
   "source": []
  }
 ],
 "metadata": {
  "kernelspec": {
   "display_name": "Python 3",
   "language": "python",
   "name": "python3"
  },
  "language_info": {
   "codemirror_mode": {
    "name": "ipython",
    "version": 3
   },
   "file_extension": ".py",
   "mimetype": "text/x-python",
   "name": "python",
   "nbconvert_exporter": "python",
   "pygments_lexer": "ipython3",
   "version": "3.7.6"
  }
 },
 "nbformat": 4,
 "nbformat_minor": 4
}
