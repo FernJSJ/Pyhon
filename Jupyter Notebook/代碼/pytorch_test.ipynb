{
 "cells": [
  {
   "cell_type": "markdown",
   "metadata": {},
   "source": [
    "# 神经网络总代码\n",
    "* python日记：用pytorch搭建一个简单的神经网络\n",
    "https://www.cnblogs.com/kiwiwk/p/11711671.html"
   ]
  },
  {
   "cell_type": "code",
   "execution_count": 7,
   "metadata": {},
   "outputs": [
    {
     "name": "stdout",
     "output_type": "stream",
     "text": [
      "Sequential(\n",
      "  (0): Linear(in_features=2, out_features=10, bias=True)\n",
      "  (1): ReLU()\n",
      "  (2): Linear(in_features=10, out_features=1, bias=True)\n",
      "  (3): Sigmoid()\n",
      ")\n",
      "tensor([[0.9243],\n",
      "        [0.0539],\n",
      "        [0.0905],\n",
      "        [0.9408]])\n"
     ]
    }
   ],
   "source": [
    "import torch\n",
    "import torch.nn as nn\n",
    "import numpy as np\n",
    "\n",
    "# 构建输入集\n",
    "x = np.mat('0 0;'\n",
    "           '0 1;'\n",
    "           '1 0;'\n",
    "           '1 1')\n",
    "x = torch.tensor(x).float()\n",
    "y = np.mat('1;'\n",
    "           '0;'\n",
    "           '0;'\n",
    "           '1')\n",
    "y = torch.tensor(y).float()\n",
    "\n",
    "# 搭建网络\n",
    "myNet = nn.Sequential(\n",
    "    nn.Linear(2, 10),\n",
    "    nn.ReLU(),\n",
    "    nn.Linear(10, 1),\n",
    "    nn.Sigmoid()\n",
    ")\n",
    "print(myNet)\n",
    "\n",
    "# 设置优化器\n",
    "optimzer = torch.optim.SGD(myNet.parameters(), lr=0.05)\n",
    "loss_func = nn.MSELoss()\n",
    "\n",
    "for epoch in range(5000):\n",
    "    out = myNet(x)\n",
    "    loss = loss_func(out, y)  # 计算误差\n",
    "    optimzer.zero_grad()  # 清除梯度\n",
    "    loss.backward()\n",
    "    optimzer.step()\n",
    "\n",
    "\n",
    "print(myNet(x).data)"
   ]
  },
  {
   "cell_type": "code",
   "execution_count": null,
   "metadata": {},
   "outputs": [],
   "source": []
  },
  {
   "cell_type": "code",
   "execution_count": null,
   "metadata": {},
   "outputs": [],
   "source": []
  }
 ],
 "metadata": {
  "kernelspec": {
   "display_name": "Python 3",
   "language": "python",
   "name": "python3"
  },
  "language_info": {
   "codemirror_mode": {
    "name": "ipython",
    "version": 3
   },
   "file_extension": ".py",
   "mimetype": "text/x-python",
   "name": "python",
   "nbconvert_exporter": "python",
   "pygments_lexer": "ipython3",
   "version": "3.7.6"
  }
 },
 "nbformat": 4,
 "nbformat_minor": 4
}
