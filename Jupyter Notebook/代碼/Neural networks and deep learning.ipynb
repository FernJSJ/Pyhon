{
 "cells": [
  {
   "cell_type": "markdown",
   "metadata": {},
   "source": [
    "# 第一章 使用神经网络识别手写数字"
   ]
  },
  {
   "cell_type": "markdown",
   "metadata": {},
   "source": [
    "## 感知器\n",
    "* 现代神经网络主要使用S型神经元的神经元模型\n",
    "\n",
    "## S型神经元\n",
    "\n",
    "## 神经网络的构架\n",
    "* 前馈神经网络\n",
    "    * 以上一层的输出作为下一次的输入，网络中没有回路，信息总是向前传播，从不反向回馈\n",
    "\n",
    "* 递归神经网络\n",
    "    * 具有休眠前在一段有限的时间内保持激活状态的神经元，这种激活状态可以刺激其它神经元，使其随后被激活并同样保持一段有限的时间。这样会导致更多的神经元被激活，随时间推移，我们得到一个级联的神经元激活系统。\n",
    "    * 一个神经元的输出只在一段时间后而不是即可影响它的输入，在这个模型中回路并不会引起问题\n",
    "\n",
    "## 一个简单的分类手写数字的网络\n",
    "* 识别手写数字的问题分成两个子问题\n",
    "    * 首先，希望有个方式把包含许多数字的图像分成一系列单独的图像，每个包含单个数字\n",
    "    * 分类单独数字\n",
    "\n",
    "* 使用一个三层神经网络来识别单个数字\n",
    "    * 输入层包含给输入像素的值进行编码的神经元\n",
    "        * 输入层包含784 = 28 * 28个神经元，输入像素是灰度级，值0.0表示白色，值1.0表示黑色，中间数值表示逐渐暗淡的灰色\n",
    "    * 第二层是隐藏层\n",
    "        * n表示神经元的数量，给n个实验不同的数值\n",
    "    * 输出层包含10个神经元\n",
    "        * 输出神经元的输出赋予编号0-9，并计算出哪个神经元有最高的激活值\n",
    "        \n",
    "## 使用梯度下降算法进行学习\n",
    "\n",
    "## 实现我们的网络来分类数字"
   ]
  },
  {
   "cell_type": "code",
   "execution_count": null,
   "metadata": {
    "collapsed": true
   },
   "outputs": [],
   "source": []
  }
 ],
 "metadata": {
  "kernelspec": {
   "display_name": "Python 3",
   "language": "python",
   "name": "python3"
  },
  "language_info": {
   "codemirror_mode": {
    "name": "ipython",
    "version": 3
   },
   "file_extension": ".py",
   "mimetype": "text/x-python",
   "name": "python",
   "nbconvert_exporter": "python",
   "pygments_lexer": "ipython3",
   "version": "3.5.2"
  }
 },
 "nbformat": 4,
 "nbformat_minor": 2
}
